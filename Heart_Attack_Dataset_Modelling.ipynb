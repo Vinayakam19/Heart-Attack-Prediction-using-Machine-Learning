{
  "nbformat": 4,
  "nbformat_minor": 0,
  "metadata": {
    "colab": {
      "name": "Heart Attack Dataset - Modelling.ipynb",
      "provenance": [],
      "collapsed_sections": []
    },
    "kernelspec": {
      "name": "python3",
      "display_name": "Python 3"
    },
    "language_info": {
      "name": "python"
    },
    "accelerator": "GPU"
  },
  "cells": [
    {
      "cell_type": "markdown",
      "metadata": {
        "id": "KxWt3MsK8LNc"
      },
      "source": [
        "# Installing the libraries"
      ]
    },
    {
      "cell_type": "code",
      "metadata": {
        "colab": {
          "base_uri": "https://localhost:8080/"
        },
        "id": "W2WhWz0L4SWv",
        "outputId": "4f7b0e9e-e3bc-4af6-969a-f98199da27d6"
      },
      "source": [
        "! pip install tensorflow==2.4.0"
      ],
      "execution_count": null,
      "outputs": [
        {
          "output_type": "stream",
          "text": [
            "Requirement already satisfied: tensorflow==2.4.0 in /usr/local/lib/python3.7/dist-packages (2.4.0)\n",
            "Requirement already satisfied: six~=1.15.0 in /usr/local/lib/python3.7/dist-packages (from tensorflow==2.4.0) (1.15.0)\n",
            "Requirement already satisfied: keras-preprocessing~=1.1.2 in /usr/local/lib/python3.7/dist-packages (from tensorflow==2.4.0) (1.1.2)\n",
            "Requirement already satisfied: termcolor~=1.1.0 in /usr/local/lib/python3.7/dist-packages (from tensorflow==2.4.0) (1.1.0)\n",
            "Requirement already satisfied: wrapt~=1.12.1 in /usr/local/lib/python3.7/dist-packages (from tensorflow==2.4.0) (1.12.1)\n",
            "Requirement already satisfied: wheel~=0.35 in /usr/local/lib/python3.7/dist-packages (from tensorflow==2.4.0) (0.36.2)\n",
            "Requirement already satisfied: numpy~=1.19.2 in /usr/local/lib/python3.7/dist-packages (from tensorflow==2.4.0) (1.19.5)\n",
            "Requirement already satisfied: typing-extensions~=3.7.4 in /usr/local/lib/python3.7/dist-packages (from tensorflow==2.4.0) (3.7.4.3)\n",
            "Requirement already satisfied: h5py~=2.10.0 in /usr/local/lib/python3.7/dist-packages (from tensorflow==2.4.0) (2.10.0)\n",
            "Requirement already satisfied: google-pasta~=0.2 in /usr/local/lib/python3.7/dist-packages (from tensorflow==2.4.0) (0.2.0)\n",
            "Requirement already satisfied: astunparse~=1.6.3 in /usr/local/lib/python3.7/dist-packages (from tensorflow==2.4.0) (1.6.3)\n",
            "Requirement already satisfied: opt-einsum~=3.3.0 in /usr/local/lib/python3.7/dist-packages (from tensorflow==2.4.0) (3.3.0)\n",
            "Requirement already satisfied: protobuf>=3.9.2 in /usr/local/lib/python3.7/dist-packages (from tensorflow==2.4.0) (3.12.4)\n",
            "Requirement already satisfied: tensorflow-estimator<2.5.0,>=2.4.0rc0 in /usr/local/lib/python3.7/dist-packages (from tensorflow==2.4.0) (2.4.0)\n",
            "Requirement already satisfied: grpcio~=1.32.0 in /usr/local/lib/python3.7/dist-packages (from tensorflow==2.4.0) (1.32.0)\n",
            "Requirement already satisfied: flatbuffers~=1.12.0 in /usr/local/lib/python3.7/dist-packages (from tensorflow==2.4.0) (1.12)\n",
            "Requirement already satisfied: gast==0.3.3 in /usr/local/lib/python3.7/dist-packages (from tensorflow==2.4.0) (0.3.3)\n",
            "Requirement already satisfied: absl-py~=0.10 in /usr/local/lib/python3.7/dist-packages (from tensorflow==2.4.0) (0.12.0)\n",
            "Requirement already satisfied: tensorboard~=2.4 in /usr/local/lib/python3.7/dist-packages (from tensorflow==2.4.0) (2.5.0)\n",
            "Requirement already satisfied: setuptools in /usr/local/lib/python3.7/dist-packages (from protobuf>=3.9.2->tensorflow==2.4.0) (57.0.0)\n",
            "Requirement already satisfied: google-auth<2,>=1.6.3 in /usr/local/lib/python3.7/dist-packages (from tensorboard~=2.4->tensorflow==2.4.0) (1.31.0)\n",
            "Requirement already satisfied: google-auth-oauthlib<0.5,>=0.4.1 in /usr/local/lib/python3.7/dist-packages (from tensorboard~=2.4->tensorflow==2.4.0) (0.4.4)\n",
            "Requirement already satisfied: markdown>=2.6.8 in /usr/local/lib/python3.7/dist-packages (from tensorboard~=2.4->tensorflow==2.4.0) (3.3.4)\n",
            "Requirement already satisfied: requests<3,>=2.21.0 in /usr/local/lib/python3.7/dist-packages (from tensorboard~=2.4->tensorflow==2.4.0) (2.23.0)\n",
            "Requirement already satisfied: werkzeug>=0.11.15 in /usr/local/lib/python3.7/dist-packages (from tensorboard~=2.4->tensorflow==2.4.0) (1.0.1)\n",
            "Requirement already satisfied: tensorboard-plugin-wit>=1.6.0 in /usr/local/lib/python3.7/dist-packages (from tensorboard~=2.4->tensorflow==2.4.0) (1.8.0)\n",
            "Requirement already satisfied: tensorboard-data-server<0.7.0,>=0.6.0 in /usr/local/lib/python3.7/dist-packages (from tensorboard~=2.4->tensorflow==2.4.0) (0.6.1)\n",
            "Requirement already satisfied: rsa<5,>=3.1.4; python_version >= \"3.6\" in /usr/local/lib/python3.7/dist-packages (from google-auth<2,>=1.6.3->tensorboard~=2.4->tensorflow==2.4.0) (4.7.2)\n",
            "Requirement already satisfied: pyasn1-modules>=0.2.1 in /usr/local/lib/python3.7/dist-packages (from google-auth<2,>=1.6.3->tensorboard~=2.4->tensorflow==2.4.0) (0.2.8)\n",
            "Requirement already satisfied: cachetools<5.0,>=2.0.0 in /usr/local/lib/python3.7/dist-packages (from google-auth<2,>=1.6.3->tensorboard~=2.4->tensorflow==2.4.0) (4.2.2)\n",
            "Requirement already satisfied: requests-oauthlib>=0.7.0 in /usr/local/lib/python3.7/dist-packages (from google-auth-oauthlib<0.5,>=0.4.1->tensorboard~=2.4->tensorflow==2.4.0) (1.3.0)\n",
            "Requirement already satisfied: importlib-metadata; python_version < \"3.8\" in /usr/local/lib/python3.7/dist-packages (from markdown>=2.6.8->tensorboard~=2.4->tensorflow==2.4.0) (4.5.0)\n",
            "Requirement already satisfied: idna<3,>=2.5 in /usr/local/lib/python3.7/dist-packages (from requests<3,>=2.21.0->tensorboard~=2.4->tensorflow==2.4.0) (2.10)\n",
            "Requirement already satisfied: urllib3!=1.25.0,!=1.25.1,<1.26,>=1.21.1 in /usr/local/lib/python3.7/dist-packages (from requests<3,>=2.21.0->tensorboard~=2.4->tensorflow==2.4.0) (1.24.3)\n",
            "Requirement already satisfied: certifi>=2017.4.17 in /usr/local/lib/python3.7/dist-packages (from requests<3,>=2.21.0->tensorboard~=2.4->tensorflow==2.4.0) (2021.5.30)\n",
            "Requirement already satisfied: chardet<4,>=3.0.2 in /usr/local/lib/python3.7/dist-packages (from requests<3,>=2.21.0->tensorboard~=2.4->tensorflow==2.4.0) (3.0.4)\n",
            "Requirement already satisfied: pyasn1>=0.1.3 in /usr/local/lib/python3.7/dist-packages (from rsa<5,>=3.1.4; python_version >= \"3.6\"->google-auth<2,>=1.6.3->tensorboard~=2.4->tensorflow==2.4.0) (0.4.8)\n",
            "Requirement already satisfied: oauthlib>=3.0.0 in /usr/local/lib/python3.7/dist-packages (from requests-oauthlib>=0.7.0->google-auth-oauthlib<0.5,>=0.4.1->tensorboard~=2.4->tensorflow==2.4.0) (3.1.1)\n",
            "Requirement already satisfied: zipp>=0.5 in /usr/local/lib/python3.7/dist-packages (from importlib-metadata; python_version < \"3.8\"->markdown>=2.6.8->tensorboard~=2.4->tensorflow==2.4.0) (3.4.1)\n"
          ],
          "name": "stdout"
        }
      ]
    },
    {
      "cell_type": "markdown",
      "metadata": {
        "id": "S4f_BdL_8Hdr"
      },
      "source": [
        "# Importing the libraries"
      ]
    },
    {
      "cell_type": "code",
      "metadata": {
        "id": "LLX-riBC9m0S"
      },
      "source": [
        "''' Importing the libraries '''\n",
        "\n",
        "import pandas as pd\n",
        "import numpy as np\n",
        "import tensorflow as tf\n",
        "import pickle\n",
        "import sklearn\n",
        "from tensorflow import keras\n",
        "from sklearn.model_selection import train_test_split\n",
        "from sklearn.preprocessing import MinMaxScaler\n",
        "from tensorflow.keras import Sequential\n",
        "from tensorflow.keras.callbacks import ModelCheckpoint\n",
        "from tensorflow.keras.callbacks import EarlyStopping, ReduceLROnPlateau\n",
        "from sklearn.linear_model import LogisticRegression\n",
        "from sklearn.metrics import confusion_matrix,classification_report\n",
        "from sklearn.pipeline import Pipeline\n",
        "from sklearn.ensemble import RandomForestClassifier\n",
        "from sklearn.svm import SVC\n",
        "from sklearn.tree import DecisionTreeClassifier\n",
        "from sklearn.naive_bayes import GaussianNB\n",
        "from sklearn.neighbors import KNeighborsClassifier"
      ],
      "execution_count": null,
      "outputs": []
    },
    {
      "cell_type": "markdown",
      "metadata": {
        "id": "dWGWWniL_P91"
      },
      "source": [
        "# Mount the Google Drive"
      ]
    },
    {
      "cell_type": "code",
      "metadata": {
        "colab": {
          "base_uri": "https://localhost:8080/"
        },
        "id": "DuVUGOyp_URi",
        "outputId": "9beb1898-83e1-414d-9f59-4ea4af572b8d"
      },
      "source": [
        "from google.colab import drive\n",
        "drive.mount('/content/drive')"
      ],
      "execution_count": null,
      "outputs": [
        {
          "output_type": "stream",
          "text": [
            "Drive already mounted at /content/drive; to attempt to forcibly remount, call drive.mount(\"/content/drive\", force_remount=True).\n"
          ],
          "name": "stdout"
        }
      ]
    },
    {
      "cell_type": "markdown",
      "metadata": {
        "id": "kd6LXuGu8E8U"
      },
      "source": [
        "# Loading the Dataset"
      ]
    },
    {
      "cell_type": "code",
      "metadata": {
        "colab": {
          "base_uri": "https://localhost:8080/",
          "height": 204
        },
        "id": "0Xx7wv39-Pwv",
        "outputId": "9e63a231-79ac-4e67-f971-b4d61cfe42d2"
      },
      "source": [
        "''' Lets load the saved CSV file again '''\n",
        "\n",
        "heart = pd.read_csv('/content/drive/MyDrive/Heart Attack Dataset/heart_new_processed.csv',index_col=[0])\n",
        "heart.head()"
      ],
      "execution_count": null,
      "outputs": [
        {
          "output_type": "execute_result",
          "data": {
            "text/html": [
              "<div>\n",
              "<style scoped>\n",
              "    .dataframe tbody tr th:only-of-type {\n",
              "        vertical-align: middle;\n",
              "    }\n",
              "\n",
              "    .dataframe tbody tr th {\n",
              "        vertical-align: top;\n",
              "    }\n",
              "\n",
              "    .dataframe thead th {\n",
              "        text-align: right;\n",
              "    }\n",
              "</style>\n",
              "<table border=\"1\" class=\"dataframe\">\n",
              "  <thead>\n",
              "    <tr style=\"text-align: right;\">\n",
              "      <th></th>\n",
              "      <th>age</th>\n",
              "      <th>sex</th>\n",
              "      <th>cp</th>\n",
              "      <th>thalachh</th>\n",
              "      <th>exng</th>\n",
              "      <th>oldpeak</th>\n",
              "      <th>slp</th>\n",
              "      <th>caa</th>\n",
              "      <th>thall</th>\n",
              "      <th>output</th>\n",
              "    </tr>\n",
              "  </thead>\n",
              "  <tbody>\n",
              "    <tr>\n",
              "      <th>0</th>\n",
              "      <td>63</td>\n",
              "      <td>1</td>\n",
              "      <td>3</td>\n",
              "      <td>150</td>\n",
              "      <td>0</td>\n",
              "      <td>2.3</td>\n",
              "      <td>0</td>\n",
              "      <td>0</td>\n",
              "      <td>1</td>\n",
              "      <td>1</td>\n",
              "    </tr>\n",
              "    <tr>\n",
              "      <th>1</th>\n",
              "      <td>37</td>\n",
              "      <td>1</td>\n",
              "      <td>2</td>\n",
              "      <td>187</td>\n",
              "      <td>0</td>\n",
              "      <td>3.5</td>\n",
              "      <td>0</td>\n",
              "      <td>0</td>\n",
              "      <td>2</td>\n",
              "      <td>1</td>\n",
              "    </tr>\n",
              "    <tr>\n",
              "      <th>2</th>\n",
              "      <td>41</td>\n",
              "      <td>0</td>\n",
              "      <td>1</td>\n",
              "      <td>172</td>\n",
              "      <td>0</td>\n",
              "      <td>1.4</td>\n",
              "      <td>2</td>\n",
              "      <td>0</td>\n",
              "      <td>2</td>\n",
              "      <td>1</td>\n",
              "    </tr>\n",
              "    <tr>\n",
              "      <th>3</th>\n",
              "      <td>56</td>\n",
              "      <td>1</td>\n",
              "      <td>1</td>\n",
              "      <td>178</td>\n",
              "      <td>0</td>\n",
              "      <td>0.8</td>\n",
              "      <td>2</td>\n",
              "      <td>0</td>\n",
              "      <td>2</td>\n",
              "      <td>1</td>\n",
              "    </tr>\n",
              "    <tr>\n",
              "      <th>4</th>\n",
              "      <td>57</td>\n",
              "      <td>0</td>\n",
              "      <td>0</td>\n",
              "      <td>163</td>\n",
              "      <td>1</td>\n",
              "      <td>0.6</td>\n",
              "      <td>2</td>\n",
              "      <td>0</td>\n",
              "      <td>2</td>\n",
              "      <td>1</td>\n",
              "    </tr>\n",
              "  </tbody>\n",
              "</table>\n",
              "</div>"
            ],
            "text/plain": [
              "   age  sex  cp  thalachh  exng  oldpeak  slp  caa  thall  output\n",
              "0   63    1   3       150     0      2.3    0    0      1       1\n",
              "1   37    1   2       187     0      3.5    0    0      2       1\n",
              "2   41    0   1       172     0      1.4    2    0      2       1\n",
              "3   56    1   1       178     0      0.8    2    0      2       1\n",
              "4   57    0   0       163     1      0.6    2    0      2       1"
            ]
          },
          "metadata": {
            "tags": []
          },
          "execution_count": 93
        }
      ]
    },
    {
      "cell_type": "markdown",
      "metadata": {
        "id": "7ljy_7vf75ep"
      },
      "source": [
        "#  Train Test split"
      ]
    },
    {
      "cell_type": "code",
      "metadata": {
        "id": "WJRa42sIRRoj"
      },
      "source": [
        "''' Splitting up the features and the output column '''\n",
        "\n",
        "\n",
        "X = heart.iloc[:,0:9].values\n",
        "Y = heart.iloc[:,-1].values\n",
        "\n",
        "Y = Y.reshape(-1,1)"
      ],
      "execution_count": null,
      "outputs": []
    },
    {
      "cell_type": "markdown",
      "metadata": {
        "id": "zgUH0MjR74It"
      },
      "source": [
        "# Normalising the dataset"
      ]
    },
    {
      "cell_type": "code",
      "metadata": {
        "id": "H3Z1M9HPP5gp"
      },
      "source": [
        "scaler = MinMaxScaler()\n",
        "\n",
        "x = scaler.fit_transform(X)\n",
        "y = scaler.fit_transform(Y)"
      ],
      "execution_count": null,
      "outputs": []
    },
    {
      "cell_type": "markdown",
      "metadata": {
        "id": "eIBc43VSL-l8"
      },
      "source": [
        "# Train Test split"
      ]
    },
    {
      "cell_type": "code",
      "metadata": {
        "id": "dq07Ufy8P5i_"
      },
      "source": [
        "X_train,X_test,y_train,y_test = train_test_split(x,y,test_size=0.20,random_state=42)"
      ],
      "execution_count": null,
      "outputs": []
    },
    {
      "cell_type": "markdown",
      "metadata": {
        "id": "vWW_kJ8l75y-"
      },
      "source": [
        "# Applying appropriate ML/DL models to predict the Heart attacks"
      ]
    },
    {
      "cell_type": "markdown",
      "metadata": {
        "id": "OqSKk8KjMM67"
      },
      "source": [
        "**DNN Model**"
      ]
    },
    {
      "cell_type": "code",
      "metadata": {
        "id": "gs3PZUl24Edk"
      },
      "source": [
        "#Creating a Sequential model and adding up the layers\n",
        "\n",
        "model = Sequential()\n",
        "model.add(tf.keras.layers.Dense(200, kernel_initializer='normal',input_dim = X_train.shape[1], activation='relu'))\n",
        "model.add(tf.keras.layers.Dense(200, activation='relu'))\n",
        "model.add(tf.keras.layers.Dropout(0.5))\n",
        "model.add(tf.keras.layers.Dense(200, activation='relu'))\n",
        "model.add(tf.keras.layers.Dense(1, activation='softmax'))"
      ],
      "execution_count": null,
      "outputs": []
    },
    {
      "cell_type": "code",
      "metadata": {
        "id": "mZtC9ZS2JROz"
      },
      "source": [
        "#set early stopping  so the model stops training when it won't improve anymore\n",
        "\n",
        "early_stopping = EarlyStopping(monitor=\"val_loss\", min_delta=0, patience=10, verbose=1, restore_best_weights=True)\n",
        "\n",
        "reduce_lr = ReduceLROnPlateau(monitor=\"val_loss\", factor=0.2, patience=3, verbose=1, min_delta=0.0001)"
      ],
      "execution_count": null,
      "outputs": []
    },
    {
      "cell_type": "code",
      "metadata": {
        "id": "IBsBro7f4EYS",
        "colab": {
          "base_uri": "https://localhost:8080/"
        },
        "outputId": "e526d4ea-ddd3-421f-d348-7753985e179d"
      },
      "source": [
        "#Compiling the model\n",
        "\n",
        "model.compile(loss = 'binary_crossentropy', optimizer = tf.keras.optimizers.SGD(lr=0.01), metrics=['accuracy'])\n",
        "\n",
        "#Printing the summary of the model\n",
        "\n",
        "print(model.summary())\n",
        "\n",
        "# Fit/Train the model\n",
        "\n",
        "history = model.fit(X_train,y_train,epochs = 200, batch_size = 16, validation_split=0.2)"
      ],
      "execution_count": null,
      "outputs": [
        {
          "output_type": "stream",
          "text": [
            "Model: \"sequential_1\"\n",
            "_________________________________________________________________\n",
            "Layer (type)                 Output Shape              Param #   \n",
            "=================================================================\n",
            "dense_4 (Dense)              (None, 200)               2000      \n",
            "_________________________________________________________________\n",
            "dense_5 (Dense)              (None, 200)               40200     \n",
            "_________________________________________________________________\n",
            "dropout_2 (Dropout)          (None, 200)               0         \n",
            "_________________________________________________________________\n",
            "dense_6 (Dense)              (None, 200)               40200     \n",
            "_________________________________________________________________\n",
            "dense_7 (Dense)              (None, 1)                 201       \n",
            "=================================================================\n",
            "Total params: 82,601\n",
            "Trainable params: 82,601\n",
            "Non-trainable params: 0\n",
            "_________________________________________________________________\n",
            "None\n",
            "Epoch 1/200\n",
            "12/12 [==============================] - 1s 20ms/step - loss: 0.6952 - accuracy: 0.4891 - val_loss: 0.6929 - val_accuracy: 0.5625\n",
            "Epoch 2/200\n",
            "12/12 [==============================] - 0s 6ms/step - loss: 0.6937 - accuracy: 0.5646 - val_loss: 0.6905 - val_accuracy: 0.5625\n",
            "Epoch 3/200\n",
            "12/12 [==============================] - 0s 6ms/step - loss: 0.6899 - accuracy: 0.4982 - val_loss: 0.6885 - val_accuracy: 0.5625\n",
            "Epoch 4/200\n",
            "12/12 [==============================] - 0s 6ms/step - loss: 0.6865 - accuracy: 0.5370 - val_loss: 0.6862 - val_accuracy: 0.5625\n",
            "Epoch 5/200\n",
            "12/12 [==============================] - 0s 7ms/step - loss: 0.6852 - accuracy: 0.5255 - val_loss: 0.6841 - val_accuracy: 0.5625\n",
            "Epoch 6/200\n",
            "12/12 [==============================] - 0s 6ms/step - loss: 0.6851 - accuracy: 0.4890 - val_loss: 0.6821 - val_accuracy: 0.5625\n",
            "Epoch 7/200\n",
            "12/12 [==============================] - 0s 6ms/step - loss: 0.6842 - accuracy: 0.4985 - val_loss: 0.6801 - val_accuracy: 0.5625\n",
            "Epoch 8/200\n",
            "12/12 [==============================] - 0s 6ms/step - loss: 0.6749 - accuracy: 0.5483 - val_loss: 0.6782 - val_accuracy: 0.5625\n",
            "Epoch 9/200\n",
            "12/12 [==============================] - 0s 6ms/step - loss: 0.6766 - accuracy: 0.5368 - val_loss: 0.6763 - val_accuracy: 0.5625\n",
            "Epoch 10/200\n",
            "12/12 [==============================] - 0s 6ms/step - loss: 0.6770 - accuracy: 0.5107 - val_loss: 0.6743 - val_accuracy: 0.5625\n",
            "Epoch 11/200\n",
            "12/12 [==============================] - 0s 6ms/step - loss: 0.6734 - accuracy: 0.5398 - val_loss: 0.6724 - val_accuracy: 0.5625\n",
            "Epoch 12/200\n",
            "12/12 [==============================] - 0s 7ms/step - loss: 0.6718 - accuracy: 0.5168 - val_loss: 0.6703 - val_accuracy: 0.5625\n",
            "Epoch 13/200\n",
            "12/12 [==============================] - 0s 7ms/step - loss: 0.6662 - accuracy: 0.5464 - val_loss: 0.6683 - val_accuracy: 0.5625\n",
            "Epoch 14/200\n",
            "12/12 [==============================] - 0s 6ms/step - loss: 0.6688 - accuracy: 0.5495 - val_loss: 0.6662 - val_accuracy: 0.5625\n",
            "Epoch 15/200\n",
            "12/12 [==============================] - 0s 6ms/step - loss: 0.6594 - accuracy: 0.5430 - val_loss: 0.6643 - val_accuracy: 0.5625\n",
            "Epoch 16/200\n",
            "12/12 [==============================] - 0s 6ms/step - loss: 0.6553 - accuracy: 0.6115 - val_loss: 0.6622 - val_accuracy: 0.5625\n",
            "Epoch 17/200\n",
            "12/12 [==============================] - 0s 6ms/step - loss: 0.6573 - accuracy: 0.5369 - val_loss: 0.6599 - val_accuracy: 0.5625\n",
            "Epoch 18/200\n",
            "12/12 [==============================] - 0s 6ms/step - loss: 0.6594 - accuracy: 0.5534 - val_loss: 0.6578 - val_accuracy: 0.5625\n",
            "Epoch 19/200\n",
            "12/12 [==============================] - 0s 6ms/step - loss: 0.6531 - accuracy: 0.5477 - val_loss: 0.6555 - val_accuracy: 0.5625\n",
            "Epoch 20/200\n",
            "12/12 [==============================] - 0s 6ms/step - loss: 0.6460 - accuracy: 0.5985 - val_loss: 0.6532 - val_accuracy: 0.5625\n",
            "Epoch 21/200\n",
            "12/12 [==============================] - 0s 6ms/step - loss: 0.6533 - accuracy: 0.4575 - val_loss: 0.6506 - val_accuracy: 0.5625\n",
            "Epoch 22/200\n",
            "12/12 [==============================] - 0s 7ms/step - loss: 0.6451 - accuracy: 0.5249 - val_loss: 0.6481 - val_accuracy: 0.5625\n",
            "Epoch 23/200\n",
            "12/12 [==============================] - 0s 6ms/step - loss: 0.6360 - accuracy: 0.5231 - val_loss: 0.6454 - val_accuracy: 0.5625\n",
            "Epoch 24/200\n",
            "12/12 [==============================] - 0s 6ms/step - loss: 0.6348 - accuracy: 0.5439 - val_loss: 0.6427 - val_accuracy: 0.5625\n",
            "Epoch 25/200\n",
            "12/12 [==============================] - 0s 6ms/step - loss: 0.6416 - accuracy: 0.4912 - val_loss: 0.6397 - val_accuracy: 0.5625\n",
            "Epoch 26/200\n",
            "12/12 [==============================] - 0s 6ms/step - loss: 0.6268 - accuracy: 0.5414 - val_loss: 0.6371 - val_accuracy: 0.5625\n",
            "Epoch 27/200\n",
            "12/12 [==============================] - 0s 6ms/step - loss: 0.6206 - accuracy: 0.5046 - val_loss: 0.6336 - val_accuracy: 0.5625\n",
            "Epoch 28/200\n",
            "12/12 [==============================] - 0s 6ms/step - loss: 0.6259 - accuracy: 0.5509 - val_loss: 0.6306 - val_accuracy: 0.5625\n",
            "Epoch 29/200\n",
            "12/12 [==============================] - 0s 6ms/step - loss: 0.6232 - accuracy: 0.4826 - val_loss: 0.6272 - val_accuracy: 0.5625\n",
            "Epoch 30/200\n",
            "12/12 [==============================] - 0s 7ms/step - loss: 0.6180 - accuracy: 0.5654 - val_loss: 0.6240 - val_accuracy: 0.5625\n",
            "Epoch 31/200\n",
            "12/12 [==============================] - 0s 6ms/step - loss: 0.6026 - accuracy: 0.5521 - val_loss: 0.6204 - val_accuracy: 0.5625\n",
            "Epoch 32/200\n",
            "12/12 [==============================] - 0s 6ms/step - loss: 0.6054 - accuracy: 0.4669 - val_loss: 0.6168 - val_accuracy: 0.5625\n",
            "Epoch 33/200\n",
            "12/12 [==============================] - 0s 6ms/step - loss: 0.5974 - accuracy: 0.5133 - val_loss: 0.6129 - val_accuracy: 0.5625\n",
            "Epoch 34/200\n",
            "12/12 [==============================] - 0s 7ms/step - loss: 0.5800 - accuracy: 0.5613 - val_loss: 0.6095 - val_accuracy: 0.5625\n",
            "Epoch 35/200\n",
            "12/12 [==============================] - 0s 6ms/step - loss: 0.5883 - accuracy: 0.4791 - val_loss: 0.6060 - val_accuracy: 0.5625\n",
            "Epoch 36/200\n",
            "12/12 [==============================] - 0s 7ms/step - loss: 0.5805 - accuracy: 0.5539 - val_loss: 0.6023 - val_accuracy: 0.5625\n",
            "Epoch 37/200\n",
            "12/12 [==============================] - 0s 6ms/step - loss: 0.5820 - accuracy: 0.5632 - val_loss: 0.5990 - val_accuracy: 0.5625\n",
            "Epoch 38/200\n",
            "12/12 [==============================] - 0s 6ms/step - loss: 0.5622 - accuracy: 0.5623 - val_loss: 0.5950 - val_accuracy: 0.5625\n",
            "Epoch 39/200\n",
            "12/12 [==============================] - 0s 7ms/step - loss: 0.5546 - accuracy: 0.5915 - val_loss: 0.5914 - val_accuracy: 0.5625\n",
            "Epoch 40/200\n",
            "12/12 [==============================] - 0s 7ms/step - loss: 0.5726 - accuracy: 0.5333 - val_loss: 0.5880 - val_accuracy: 0.5625\n",
            "Epoch 41/200\n",
            "12/12 [==============================] - 0s 6ms/step - loss: 0.5551 - accuracy: 0.5776 - val_loss: 0.5843 - val_accuracy: 0.5625\n",
            "Epoch 42/200\n",
            "12/12 [==============================] - 0s 7ms/step - loss: 0.5323 - accuracy: 0.5283 - val_loss: 0.5803 - val_accuracy: 0.5625\n",
            "Epoch 43/200\n",
            "12/12 [==============================] - 0s 6ms/step - loss: 0.5283 - accuracy: 0.5103 - val_loss: 0.5765 - val_accuracy: 0.5625\n",
            "Epoch 44/200\n",
            "12/12 [==============================] - 0s 6ms/step - loss: 0.5384 - accuracy: 0.5819 - val_loss: 0.5733 - val_accuracy: 0.5625\n",
            "Epoch 45/200\n",
            "12/12 [==============================] - 0s 6ms/step - loss: 0.5332 - accuracy: 0.5388 - val_loss: 0.5693 - val_accuracy: 0.5625\n",
            "Epoch 46/200\n",
            "12/12 [==============================] - 0s 6ms/step - loss: 0.5090 - accuracy: 0.5938 - val_loss: 0.5658 - val_accuracy: 0.5625\n",
            "Epoch 47/200\n",
            "12/12 [==============================] - 0s 6ms/step - loss: 0.5028 - accuracy: 0.5175 - val_loss: 0.5627 - val_accuracy: 0.5625\n",
            "Epoch 48/200\n",
            "12/12 [==============================] - 0s 6ms/step - loss: 0.5016 - accuracy: 0.5013 - val_loss: 0.5582 - val_accuracy: 0.5625\n",
            "Epoch 49/200\n",
            "12/12 [==============================] - 0s 6ms/step - loss: 0.5090 - accuracy: 0.4771 - val_loss: 0.5545 - val_accuracy: 0.5625\n",
            "Epoch 50/200\n",
            "12/12 [==============================] - 0s 6ms/step - loss: 0.5009 - accuracy: 0.5841 - val_loss: 0.5518 - val_accuracy: 0.5625\n",
            "Epoch 51/200\n",
            "12/12 [==============================] - 0s 6ms/step - loss: 0.4831 - accuracy: 0.5431 - val_loss: 0.5481 - val_accuracy: 0.5625\n",
            "Epoch 52/200\n",
            "12/12 [==============================] - 0s 6ms/step - loss: 0.4896 - accuracy: 0.5288 - val_loss: 0.5458 - val_accuracy: 0.5625\n",
            "Epoch 53/200\n",
            "12/12 [==============================] - 0s 7ms/step - loss: 0.4901 - accuracy: 0.5395 - val_loss: 0.5429 - val_accuracy: 0.5625\n",
            "Epoch 54/200\n",
            "12/12 [==============================] - 0s 6ms/step - loss: 0.4621 - accuracy: 0.5292 - val_loss: 0.5405 - val_accuracy: 0.5625\n",
            "Epoch 55/200\n",
            "12/12 [==============================] - 0s 7ms/step - loss: 0.4613 - accuracy: 0.4997 - val_loss: 0.5390 - val_accuracy: 0.5625\n",
            "Epoch 56/200\n",
            "12/12 [==============================] - 0s 6ms/step - loss: 0.4563 - accuracy: 0.5107 - val_loss: 0.5359 - val_accuracy: 0.5625\n",
            "Epoch 57/200\n",
            "12/12 [==============================] - 0s 6ms/step - loss: 0.4402 - accuracy: 0.4967 - val_loss: 0.5327 - val_accuracy: 0.5625\n",
            "Epoch 58/200\n",
            "12/12 [==============================] - 0s 6ms/step - loss: 0.4488 - accuracy: 0.5295 - val_loss: 0.5325 - val_accuracy: 0.5625\n",
            "Epoch 59/200\n",
            "12/12 [==============================] - 0s 6ms/step - loss: 0.4307 - accuracy: 0.5555 - val_loss: 0.5322 - val_accuracy: 0.5625\n",
            "Epoch 60/200\n",
            "12/12 [==============================] - 0s 7ms/step - loss: 0.4357 - accuracy: 0.5233 - val_loss: 0.5313 - val_accuracy: 0.5625\n",
            "Epoch 61/200\n",
            "12/12 [==============================] - 0s 6ms/step - loss: 0.3975 - accuracy: 0.5814 - val_loss: 0.5323 - val_accuracy: 0.5625\n",
            "Epoch 62/200\n",
            "12/12 [==============================] - 0s 6ms/step - loss: 0.3795 - accuracy: 0.5329 - val_loss: 0.5304 - val_accuracy: 0.5625\n",
            "Epoch 63/200\n",
            "12/12 [==============================] - 0s 6ms/step - loss: 0.4044 - accuracy: 0.5213 - val_loss: 0.5300 - val_accuracy: 0.5625\n",
            "Epoch 64/200\n",
            "12/12 [==============================] - 0s 6ms/step - loss: 0.4389 - accuracy: 0.4717 - val_loss: 0.5273 - val_accuracy: 0.5625\n",
            "Epoch 65/200\n",
            "12/12 [==============================] - 0s 6ms/step - loss: 0.3903 - accuracy: 0.5831 - val_loss: 0.5289 - val_accuracy: 0.5625\n",
            "Epoch 66/200\n",
            "12/12 [==============================] - 0s 7ms/step - loss: 0.3793 - accuracy: 0.5514 - val_loss: 0.5281 - val_accuracy: 0.5625\n",
            "Epoch 67/200\n",
            "12/12 [==============================] - 0s 6ms/step - loss: 0.3845 - accuracy: 0.5374 - val_loss: 0.5277 - val_accuracy: 0.5625\n",
            "Epoch 68/200\n",
            "12/12 [==============================] - 0s 6ms/step - loss: 0.3427 - accuracy: 0.5590 - val_loss: 0.5287 - val_accuracy: 0.5625\n",
            "Epoch 69/200\n",
            "12/12 [==============================] - 0s 7ms/step - loss: 0.4430 - accuracy: 0.5416 - val_loss: 0.5293 - val_accuracy: 0.5625\n",
            "Epoch 70/200\n",
            "12/12 [==============================] - 0s 7ms/step - loss: 0.3986 - accuracy: 0.5406 - val_loss: 0.5276 - val_accuracy: 0.5625\n",
            "Epoch 71/200\n",
            "12/12 [==============================] - 0s 6ms/step - loss: 0.3935 - accuracy: 0.5309 - val_loss: 0.5297 - val_accuracy: 0.5625\n",
            "Epoch 72/200\n",
            "12/12 [==============================] - 0s 6ms/step - loss: 0.3976 - accuracy: 0.5390 - val_loss: 0.5303 - val_accuracy: 0.5625\n",
            "Epoch 73/200\n",
            "12/12 [==============================] - 0s 6ms/step - loss: 0.3506 - accuracy: 0.4909 - val_loss: 0.5288 - val_accuracy: 0.5625\n",
            "Epoch 74/200\n",
            "12/12 [==============================] - 0s 6ms/step - loss: 0.3724 - accuracy: 0.5324 - val_loss: 0.5297 - val_accuracy: 0.5625\n",
            "Epoch 75/200\n",
            "12/12 [==============================] - 0s 6ms/step - loss: 0.3585 - accuracy: 0.5380 - val_loss: 0.5311 - val_accuracy: 0.5625\n",
            "Epoch 76/200\n",
            "12/12 [==============================] - 0s 6ms/step - loss: 0.3368 - accuracy: 0.5159 - val_loss: 0.5331 - val_accuracy: 0.5625\n",
            "Epoch 77/200\n",
            "12/12 [==============================] - 0s 7ms/step - loss: 0.3414 - accuracy: 0.5211 - val_loss: 0.5320 - val_accuracy: 0.5625\n",
            "Epoch 78/200\n",
            "12/12 [==============================] - 0s 6ms/step - loss: 0.3886 - accuracy: 0.6060 - val_loss: 0.5337 - val_accuracy: 0.5625\n",
            "Epoch 79/200\n",
            "12/12 [==============================] - 0s 6ms/step - loss: 0.3367 - accuracy: 0.5075 - val_loss: 0.5339 - val_accuracy: 0.5625\n",
            "Epoch 80/200\n",
            "12/12 [==============================] - 0s 7ms/step - loss: 0.3188 - accuracy: 0.5250 - val_loss: 0.5345 - val_accuracy: 0.5625\n",
            "Epoch 81/200\n",
            "12/12 [==============================] - 0s 6ms/step - loss: 0.3512 - accuracy: 0.4894 - val_loss: 0.5346 - val_accuracy: 0.5625\n",
            "Epoch 82/200\n",
            "12/12 [==============================] - 0s 6ms/step - loss: 0.3907 - accuracy: 0.5359 - val_loss: 0.5407 - val_accuracy: 0.5625\n",
            "Epoch 83/200\n",
            "12/12 [==============================] - 0s 6ms/step - loss: 0.3472 - accuracy: 0.5530 - val_loss: 0.5362 - val_accuracy: 0.5625\n",
            "Epoch 84/200\n",
            "12/12 [==============================] - 0s 6ms/step - loss: 0.3646 - accuracy: 0.5595 - val_loss: 0.5369 - val_accuracy: 0.5625\n",
            "Epoch 85/200\n",
            "12/12 [==============================] - 0s 6ms/step - loss: 0.3458 - accuracy: 0.5330 - val_loss: 0.5432 - val_accuracy: 0.5625\n",
            "Epoch 86/200\n",
            "12/12 [==============================] - 0s 7ms/step - loss: 0.3390 - accuracy: 0.5967 - val_loss: 0.5429 - val_accuracy: 0.5625\n",
            "Epoch 87/200\n",
            "12/12 [==============================] - 0s 6ms/step - loss: 0.3264 - accuracy: 0.4982 - val_loss: 0.5420 - val_accuracy: 0.5625\n",
            "Epoch 88/200\n",
            "12/12 [==============================] - 0s 6ms/step - loss: 0.3538 - accuracy: 0.5653 - val_loss: 0.5460 - val_accuracy: 0.5625\n",
            "Epoch 89/200\n",
            "12/12 [==============================] - 0s 6ms/step - loss: 0.3991 - accuracy: 0.5294 - val_loss: 0.5442 - val_accuracy: 0.5625\n",
            "Epoch 90/200\n",
            "12/12 [==============================] - 0s 6ms/step - loss: 0.2823 - accuracy: 0.5521 - val_loss: 0.5445 - val_accuracy: 0.5625\n",
            "Epoch 91/200\n",
            "12/12 [==============================] - 0s 6ms/step - loss: 0.3424 - accuracy: 0.5269 - val_loss: 0.5410 - val_accuracy: 0.5625\n",
            "Epoch 92/200\n",
            "12/12 [==============================] - 0s 6ms/step - loss: 0.3463 - accuracy: 0.5054 - val_loss: 0.5455 - val_accuracy: 0.5625\n",
            "Epoch 93/200\n",
            "12/12 [==============================] - 0s 7ms/step - loss: 0.3013 - accuracy: 0.4901 - val_loss: 0.5428 - val_accuracy: 0.5625\n",
            "Epoch 94/200\n",
            "12/12 [==============================] - 0s 6ms/step - loss: 0.3261 - accuracy: 0.5734 - val_loss: 0.5473 - val_accuracy: 0.5625\n",
            "Epoch 95/200\n",
            "12/12 [==============================] - 0s 6ms/step - loss: 0.3138 - accuracy: 0.5435 - val_loss: 0.5478 - val_accuracy: 0.5625\n",
            "Epoch 96/200\n",
            "12/12 [==============================] - 0s 6ms/step - loss: 0.3714 - accuracy: 0.5724 - val_loss: 0.5475 - val_accuracy: 0.5625\n",
            "Epoch 97/200\n",
            "12/12 [==============================] - 0s 6ms/step - loss: 0.2973 - accuracy: 0.5584 - val_loss: 0.5543 - val_accuracy: 0.5625\n",
            "Epoch 98/200\n",
            "12/12 [==============================] - 0s 6ms/step - loss: 0.2777 - accuracy: 0.5186 - val_loss: 0.5486 - val_accuracy: 0.5625\n",
            "Epoch 99/200\n",
            "12/12 [==============================] - 0s 6ms/step - loss: 0.3196 - accuracy: 0.5615 - val_loss: 0.5478 - val_accuracy: 0.5625\n",
            "Epoch 100/200\n",
            "12/12 [==============================] - 0s 8ms/step - loss: 0.2760 - accuracy: 0.5527 - val_loss: 0.5563 - val_accuracy: 0.5625\n",
            "Epoch 101/200\n",
            "12/12 [==============================] - 0s 6ms/step - loss: 0.3034 - accuracy: 0.5503 - val_loss: 0.5489 - val_accuracy: 0.5625\n",
            "Epoch 102/200\n",
            "12/12 [==============================] - 0s 7ms/step - loss: 0.3384 - accuracy: 0.5070 - val_loss: 0.5454 - val_accuracy: 0.5625\n",
            "Epoch 103/200\n",
            "12/12 [==============================] - 0s 7ms/step - loss: 0.3827 - accuracy: 0.5456 - val_loss: 0.5493 - val_accuracy: 0.5625\n",
            "Epoch 104/200\n",
            "12/12 [==============================] - 0s 6ms/step - loss: 0.2874 - accuracy: 0.5271 - val_loss: 0.5525 - val_accuracy: 0.5625\n",
            "Epoch 105/200\n",
            "12/12 [==============================] - 0s 7ms/step - loss: 0.2941 - accuracy: 0.5498 - val_loss: 0.5517 - val_accuracy: 0.5625\n",
            "Epoch 106/200\n",
            "12/12 [==============================] - 0s 6ms/step - loss: 0.2550 - accuracy: 0.5374 - val_loss: 0.5535 - val_accuracy: 0.5625\n",
            "Epoch 107/200\n",
            "12/12 [==============================] - 0s 6ms/step - loss: 0.2921 - accuracy: 0.5516 - val_loss: 0.5519 - val_accuracy: 0.5625\n",
            "Epoch 108/200\n",
            "12/12 [==============================] - 0s 6ms/step - loss: 0.2922 - accuracy: 0.5451 - val_loss: 0.5594 - val_accuracy: 0.5625\n",
            "Epoch 109/200\n",
            "12/12 [==============================] - 0s 6ms/step - loss: 0.2812 - accuracy: 0.5769 - val_loss: 0.5612 - val_accuracy: 0.5625\n",
            "Epoch 110/200\n",
            "12/12 [==============================] - 0s 6ms/step - loss: 0.3385 - accuracy: 0.5516 - val_loss: 0.5584 - val_accuracy: 0.5625\n",
            "Epoch 111/200\n",
            "12/12 [==============================] - 0s 6ms/step - loss: 0.2943 - accuracy: 0.5545 - val_loss: 0.5528 - val_accuracy: 0.5625\n",
            "Epoch 112/200\n",
            "12/12 [==============================] - 0s 6ms/step - loss: 0.2803 - accuracy: 0.5222 - val_loss: 0.5583 - val_accuracy: 0.5625\n",
            "Epoch 113/200\n",
            "12/12 [==============================] - 0s 6ms/step - loss: 0.3432 - accuracy: 0.5317 - val_loss: 0.5584 - val_accuracy: 0.5625\n",
            "Epoch 114/200\n",
            "12/12 [==============================] - 0s 6ms/step - loss: 0.3803 - accuracy: 0.5376 - val_loss: 0.5588 - val_accuracy: 0.5625\n",
            "Epoch 115/200\n",
            "12/12 [==============================] - 0s 6ms/step - loss: 0.3009 - accuracy: 0.5912 - val_loss: 0.5654 - val_accuracy: 0.5625\n",
            "Epoch 116/200\n",
            "12/12 [==============================] - 0s 7ms/step - loss: 0.3271 - accuracy: 0.5212 - val_loss: 0.5533 - val_accuracy: 0.5625\n",
            "Epoch 117/200\n",
            "12/12 [==============================] - 0s 6ms/step - loss: 0.2812 - accuracy: 0.6181 - val_loss: 0.5687 - val_accuracy: 0.5625\n",
            "Epoch 118/200\n",
            "12/12 [==============================] - 0s 7ms/step - loss: 0.3071 - accuracy: 0.5313 - val_loss: 0.5591 - val_accuracy: 0.5625\n",
            "Epoch 119/200\n",
            "12/12 [==============================] - 0s 7ms/step - loss: 0.3516 - accuracy: 0.5279 - val_loss: 0.5568 - val_accuracy: 0.5625\n",
            "Epoch 120/200\n",
            "12/12 [==============================] - 0s 6ms/step - loss: 0.3120 - accuracy: 0.5403 - val_loss: 0.5554 - val_accuracy: 0.5625\n",
            "Epoch 121/200\n",
            "12/12 [==============================] - 0s 6ms/step - loss: 0.3171 - accuracy: 0.5384 - val_loss: 0.5545 - val_accuracy: 0.5625\n",
            "Epoch 122/200\n",
            "12/12 [==============================] - 0s 6ms/step - loss: 0.3151 - accuracy: 0.5183 - val_loss: 0.5614 - val_accuracy: 0.5625\n",
            "Epoch 123/200\n",
            "12/12 [==============================] - 0s 7ms/step - loss: 0.3249 - accuracy: 0.4976 - val_loss: 0.5510 - val_accuracy: 0.5625\n",
            "Epoch 124/200\n",
            "12/12 [==============================] - 0s 7ms/step - loss: 0.2680 - accuracy: 0.4939 - val_loss: 0.5527 - val_accuracy: 0.5625\n",
            "Epoch 125/200\n",
            "12/12 [==============================] - 0s 6ms/step - loss: 0.3497 - accuracy: 0.5492 - val_loss: 0.5561 - val_accuracy: 0.5625\n",
            "Epoch 126/200\n",
            "12/12 [==============================] - 0s 6ms/step - loss: 0.3491 - accuracy: 0.5401 - val_loss: 0.5556 - val_accuracy: 0.5625\n",
            "Epoch 127/200\n",
            "12/12 [==============================] - 0s 6ms/step - loss: 0.3145 - accuracy: 0.5662 - val_loss: 0.5598 - val_accuracy: 0.5625\n",
            "Epoch 128/200\n",
            "12/12 [==============================] - 0s 6ms/step - loss: 0.3324 - accuracy: 0.5183 - val_loss: 0.5612 - val_accuracy: 0.5625\n",
            "Epoch 129/200\n",
            "12/12 [==============================] - 0s 7ms/step - loss: 0.2569 - accuracy: 0.5707 - val_loss: 0.5572 - val_accuracy: 0.5625\n",
            "Epoch 130/200\n",
            "12/12 [==============================] - 0s 7ms/step - loss: 0.3082 - accuracy: 0.5179 - val_loss: 0.5604 - val_accuracy: 0.5625\n",
            "Epoch 131/200\n",
            "12/12 [==============================] - 0s 6ms/step - loss: 0.3526 - accuracy: 0.5599 - val_loss: 0.5592 - val_accuracy: 0.5625\n",
            "Epoch 132/200\n",
            "12/12 [==============================] - 0s 6ms/step - loss: 0.3388 - accuracy: 0.5180 - val_loss: 0.5626 - val_accuracy: 0.5625\n",
            "Epoch 133/200\n",
            "12/12 [==============================] - 0s 7ms/step - loss: 0.2929 - accuracy: 0.5107 - val_loss: 0.5618 - val_accuracy: 0.5625\n",
            "Epoch 134/200\n",
            "12/12 [==============================] - 0s 6ms/step - loss: 0.3157 - accuracy: 0.5029 - val_loss: 0.5560 - val_accuracy: 0.5625\n",
            "Epoch 135/200\n",
            "12/12 [==============================] - 0s 7ms/step - loss: 0.2700 - accuracy: 0.5404 - val_loss: 0.5568 - val_accuracy: 0.5625\n",
            "Epoch 136/200\n",
            "12/12 [==============================] - 0s 7ms/step - loss: 0.2611 - accuracy: 0.5884 - val_loss: 0.5659 - val_accuracy: 0.5625\n",
            "Epoch 137/200\n",
            "12/12 [==============================] - 0s 6ms/step - loss: 0.3223 - accuracy: 0.5437 - val_loss: 0.5603 - val_accuracy: 0.5625\n",
            "Epoch 138/200\n",
            "12/12 [==============================] - 0s 6ms/step - loss: 0.2996 - accuracy: 0.5876 - val_loss: 0.5677 - val_accuracy: 0.5625\n",
            "Epoch 139/200\n",
            "12/12 [==============================] - 0s 6ms/step - loss: 0.2839 - accuracy: 0.5486 - val_loss: 0.5600 - val_accuracy: 0.5625\n",
            "Epoch 140/200\n",
            "12/12 [==============================] - 0s 6ms/step - loss: 0.2942 - accuracy: 0.5366 - val_loss: 0.5559 - val_accuracy: 0.5625\n",
            "Epoch 141/200\n",
            "12/12 [==============================] - 0s 7ms/step - loss: 0.2954 - accuracy: 0.5588 - val_loss: 0.5607 - val_accuracy: 0.5625\n",
            "Epoch 142/200\n",
            "12/12 [==============================] - 0s 7ms/step - loss: 0.3205 - accuracy: 0.4818 - val_loss: 0.5549 - val_accuracy: 0.5625\n",
            "Epoch 143/200\n",
            "12/12 [==============================] - 0s 7ms/step - loss: 0.2561 - accuracy: 0.5341 - val_loss: 0.5617 - val_accuracy: 0.5625\n",
            "Epoch 144/200\n",
            "12/12 [==============================] - 0s 7ms/step - loss: 0.2457 - accuracy: 0.5065 - val_loss: 0.5694 - val_accuracy: 0.5625\n",
            "Epoch 145/200\n",
            "12/12 [==============================] - 0s 6ms/step - loss: 0.2728 - accuracy: 0.5339 - val_loss: 0.5568 - val_accuracy: 0.5625\n",
            "Epoch 146/200\n",
            "12/12 [==============================] - 0s 6ms/step - loss: 0.2626 - accuracy: 0.5117 - val_loss: 0.5633 - val_accuracy: 0.5625\n",
            "Epoch 147/200\n",
            "12/12 [==============================] - 0s 6ms/step - loss: 0.2889 - accuracy: 0.5853 - val_loss: 0.5641 - val_accuracy: 0.5625\n",
            "Epoch 148/200\n",
            "12/12 [==============================] - 0s 7ms/step - loss: 0.2436 - accuracy: 0.5510 - val_loss: 0.5625 - val_accuracy: 0.5625\n",
            "Epoch 149/200\n",
            "12/12 [==============================] - 0s 6ms/step - loss: 0.2781 - accuracy: 0.5144 - val_loss: 0.5649 - val_accuracy: 0.5625\n",
            "Epoch 150/200\n",
            "12/12 [==============================] - 0s 6ms/step - loss: 0.2671 - accuracy: 0.5578 - val_loss: 0.5618 - val_accuracy: 0.5625\n",
            "Epoch 151/200\n",
            "12/12 [==============================] - 0s 6ms/step - loss: 0.3363 - accuracy: 0.5537 - val_loss: 0.5627 - val_accuracy: 0.5625\n",
            "Epoch 152/200\n",
            "12/12 [==============================] - 0s 7ms/step - loss: 0.3188 - accuracy: 0.4735 - val_loss: 0.5588 - val_accuracy: 0.5625\n",
            "Epoch 153/200\n",
            "12/12 [==============================] - 0s 7ms/step - loss: 0.2746 - accuracy: 0.5462 - val_loss: 0.5705 - val_accuracy: 0.5625\n",
            "Epoch 154/200\n",
            "12/12 [==============================] - 0s 7ms/step - loss: 0.2676 - accuracy: 0.5328 - val_loss: 0.5663 - val_accuracy: 0.5625\n",
            "Epoch 155/200\n",
            "12/12 [==============================] - 0s 6ms/step - loss: 0.2363 - accuracy: 0.5030 - val_loss: 0.5697 - val_accuracy: 0.5625\n",
            "Epoch 156/200\n",
            "12/12 [==============================] - 0s 6ms/step - loss: 0.3087 - accuracy: 0.5896 - val_loss: 0.5680 - val_accuracy: 0.5625\n",
            "Epoch 157/200\n",
            "12/12 [==============================] - 0s 7ms/step - loss: 0.2399 - accuracy: 0.5313 - val_loss: 0.5624 - val_accuracy: 0.5625\n",
            "Epoch 158/200\n",
            "12/12 [==============================] - 0s 7ms/step - loss: 0.2727 - accuracy: 0.5689 - val_loss: 0.5637 - val_accuracy: 0.5625\n",
            "Epoch 159/200\n",
            "12/12 [==============================] - 0s 6ms/step - loss: 0.2677 - accuracy: 0.5831 - val_loss: 0.5637 - val_accuracy: 0.5625\n",
            "Epoch 160/200\n",
            "12/12 [==============================] - 0s 6ms/step - loss: 0.2853 - accuracy: 0.5760 - val_loss: 0.5673 - val_accuracy: 0.5625\n",
            "Epoch 161/200\n",
            "12/12 [==============================] - 0s 6ms/step - loss: 0.3437 - accuracy: 0.5620 - val_loss: 0.5739 - val_accuracy: 0.5625\n",
            "Epoch 162/200\n",
            "12/12 [==============================] - 0s 6ms/step - loss: 0.2717 - accuracy: 0.5474 - val_loss: 0.5824 - val_accuracy: 0.5625\n",
            "Epoch 163/200\n",
            "12/12 [==============================] - 0s 7ms/step - loss: 0.2364 - accuracy: 0.5635 - val_loss: 0.5624 - val_accuracy: 0.5625\n",
            "Epoch 164/200\n",
            "12/12 [==============================] - 0s 6ms/step - loss: 0.3292 - accuracy: 0.5270 - val_loss: 0.5709 - val_accuracy: 0.5625\n",
            "Epoch 165/200\n",
            "12/12 [==============================] - 0s 7ms/step - loss: 0.2957 - accuracy: 0.5047 - val_loss: 0.5624 - val_accuracy: 0.5625\n",
            "Epoch 166/200\n",
            "12/12 [==============================] - 0s 7ms/step - loss: 0.2426 - accuracy: 0.5104 - val_loss: 0.5600 - val_accuracy: 0.5625\n",
            "Epoch 167/200\n",
            "12/12 [==============================] - 0s 7ms/step - loss: 0.2342 - accuracy: 0.5129 - val_loss: 0.5683 - val_accuracy: 0.5625\n",
            "Epoch 168/200\n",
            "12/12 [==============================] - 0s 7ms/step - loss: 0.3282 - accuracy: 0.5144 - val_loss: 0.5582 - val_accuracy: 0.5625\n",
            "Epoch 169/200\n",
            "12/12 [==============================] - 0s 6ms/step - loss: 0.3051 - accuracy: 0.5786 - val_loss: 0.5599 - val_accuracy: 0.5625\n",
            "Epoch 170/200\n",
            "12/12 [==============================] - 0s 6ms/step - loss: 0.2761 - accuracy: 0.5894 - val_loss: 0.5624 - val_accuracy: 0.5625\n",
            "Epoch 171/200\n",
            "12/12 [==============================] - 0s 6ms/step - loss: 0.2527 - accuracy: 0.5190 - val_loss: 0.5611 - val_accuracy: 0.5625\n",
            "Epoch 172/200\n",
            "12/12 [==============================] - 0s 7ms/step - loss: 0.2545 - accuracy: 0.5534 - val_loss: 0.5622 - val_accuracy: 0.5625\n",
            "Epoch 173/200\n",
            "12/12 [==============================] - 0s 7ms/step - loss: 0.3140 - accuracy: 0.5147 - val_loss: 0.5549 - val_accuracy: 0.5625\n",
            "Epoch 174/200\n",
            "12/12 [==============================] - 0s 6ms/step - loss: 0.2892 - accuracy: 0.5787 - val_loss: 0.5662 - val_accuracy: 0.5625\n",
            "Epoch 175/200\n",
            "12/12 [==============================] - 0s 6ms/step - loss: 0.2636 - accuracy: 0.5992 - val_loss: 0.5752 - val_accuracy: 0.5625\n",
            "Epoch 176/200\n",
            "12/12 [==============================] - 0s 6ms/step - loss: 0.2488 - accuracy: 0.5202 - val_loss: 0.5614 - val_accuracy: 0.5625\n",
            "Epoch 177/200\n",
            "12/12 [==============================] - 0s 7ms/step - loss: 0.3446 - accuracy: 0.5567 - val_loss: 0.5641 - val_accuracy: 0.5625\n",
            "Epoch 178/200\n",
            "12/12 [==============================] - 0s 7ms/step - loss: 0.3342 - accuracy: 0.5278 - val_loss: 0.5529 - val_accuracy: 0.5625\n",
            "Epoch 179/200\n",
            "12/12 [==============================] - 0s 6ms/step - loss: 0.2811 - accuracy: 0.5056 - val_loss: 0.5610 - val_accuracy: 0.5625\n",
            "Epoch 180/200\n",
            "12/12 [==============================] - 0s 6ms/step - loss: 0.2615 - accuracy: 0.5441 - val_loss: 0.5616 - val_accuracy: 0.5625\n",
            "Epoch 181/200\n",
            "12/12 [==============================] - 0s 7ms/step - loss: 0.2892 - accuracy: 0.5205 - val_loss: 0.5506 - val_accuracy: 0.5625\n",
            "Epoch 182/200\n",
            "12/12 [==============================] - 0s 6ms/step - loss: 0.2661 - accuracy: 0.5635 - val_loss: 0.5625 - val_accuracy: 0.5625\n",
            "Epoch 183/200\n",
            "12/12 [==============================] - 0s 6ms/step - loss: 0.2363 - accuracy: 0.5358 - val_loss: 0.5715 - val_accuracy: 0.5625\n",
            "Epoch 184/200\n",
            "12/12 [==============================] - 0s 6ms/step - loss: 0.2749 - accuracy: 0.5142 - val_loss: 0.5587 - val_accuracy: 0.5625\n",
            "Epoch 185/200\n",
            "12/12 [==============================] - 0s 6ms/step - loss: 0.3146 - accuracy: 0.5384 - val_loss: 0.5575 - val_accuracy: 0.5625\n",
            "Epoch 186/200\n",
            "12/12 [==============================] - 0s 6ms/step - loss: 0.2772 - accuracy: 0.5603 - val_loss: 0.5636 - val_accuracy: 0.5625\n",
            "Epoch 187/200\n",
            "12/12 [==============================] - 0s 6ms/step - loss: 0.2958 - accuracy: 0.5169 - val_loss: 0.5654 - val_accuracy: 0.5625\n",
            "Epoch 188/200\n",
            "12/12 [==============================] - 0s 6ms/step - loss: 0.3116 - accuracy: 0.4921 - val_loss: 0.5596 - val_accuracy: 0.5625\n",
            "Epoch 189/200\n",
            "12/12 [==============================] - 0s 6ms/step - loss: 0.2989 - accuracy: 0.4853 - val_loss: 0.5588 - val_accuracy: 0.5625\n",
            "Epoch 190/200\n",
            "12/12 [==============================] - 0s 7ms/step - loss: 0.3063 - accuracy: 0.5201 - val_loss: 0.5639 - val_accuracy: 0.5625\n",
            "Epoch 191/200\n",
            "12/12 [==============================] - 0s 6ms/step - loss: 0.2839 - accuracy: 0.5108 - val_loss: 0.5559 - val_accuracy: 0.5625\n",
            "Epoch 192/200\n",
            "12/12 [==============================] - 0s 7ms/step - loss: 0.2646 - accuracy: 0.5390 - val_loss: 0.5541 - val_accuracy: 0.5625\n",
            "Epoch 193/200\n",
            "12/12 [==============================] - 0s 6ms/step - loss: 0.3005 - accuracy: 0.4635 - val_loss: 0.5522 - val_accuracy: 0.5625\n",
            "Epoch 194/200\n",
            "12/12 [==============================] - 0s 6ms/step - loss: 0.3352 - accuracy: 0.5293 - val_loss: 0.5607 - val_accuracy: 0.5625\n",
            "Epoch 195/200\n",
            "12/12 [==============================] - 0s 6ms/step - loss: 0.2645 - accuracy: 0.5485 - val_loss: 0.5622 - val_accuracy: 0.5625\n",
            "Epoch 196/200\n",
            "12/12 [==============================] - 0s 7ms/step - loss: 0.3150 - accuracy: 0.5209 - val_loss: 0.5581 - val_accuracy: 0.5625\n",
            "Epoch 197/200\n",
            "12/12 [==============================] - 0s 7ms/step - loss: 0.2125 - accuracy: 0.5189 - val_loss: 0.5630 - val_accuracy: 0.5625\n",
            "Epoch 198/200\n",
            "12/12 [==============================] - 0s 6ms/step - loss: 0.2492 - accuracy: 0.5616 - val_loss: 0.5526 - val_accuracy: 0.5625\n",
            "Epoch 199/200\n",
            "12/12 [==============================] - 0s 6ms/step - loss: 0.2868 - accuracy: 0.5548 - val_loss: 0.5699 - val_accuracy: 0.5625\n",
            "Epoch 200/200\n",
            "12/12 [==============================] - 0s 6ms/step - loss: 0.2320 - accuracy: 0.5253 - val_loss: 0.5618 - val_accuracy: 0.5625\n"
          ],
          "name": "stdout"
        }
      ]
    },
    {
      "cell_type": "markdown",
      "metadata": {
        "id": "QAzuGdOM-gB9"
      },
      "source": [
        "# Tuning the model"
      ]
    },
    {
      "cell_type": "code",
      "metadata": {
        "id": "SpOabCXP4ETC"
      },
      "source": [
        "''' Installing the keras tuner to tune the Deep Learning Model '''\n",
        "\n",
        "! pip install -q -U keras-tuner"
      ],
      "execution_count": null,
      "outputs": []
    },
    {
      "cell_type": "code",
      "metadata": {
        "id": "6QJam8iF4EQC"
      },
      "source": [
        "import keras_tuner as kt"
      ],
      "execution_count": null,
      "outputs": []
    },
    {
      "cell_type": "code",
      "metadata": {
        "id": "yi8pcYKi4ENZ"
      },
      "source": [
        "def model_builder(hp):\n",
        "  model = keras.Sequential()\n",
        "\n",
        "  # Tune the number of units in the first Dense layer\n",
        "  # Choose an optimal value between 32-512\n",
        "  hp_units = hp.Int('units', min_value=32, max_value=512, step=32)\n",
        "\n",
        "  model.add(tf.keras.layers.Dense(units=hp_units, kernel_initializer='normal',input_dim = X_train.shape[1], activation='relu'))\n",
        "  model.add(tf.keras.layers.Dropout(0.5))\n",
        "  model.add(tf.keras.layers.Dense(units=hp_units, activation='relu'))\n",
        "  model.add(tf.keras.layers.Dropout(0.5))\n",
        "  model.add(keras.layers.Dense(units=hp_units, activation='relu'))\n",
        "  model.add(keras.layers.Dense(1,activation='softmax'))\n",
        "\n",
        "  # Tune the learning rate for the optimizer\n",
        "  # Choose an optimal value from 0.01, 0.001, or 0.0001\n",
        "  hp_learning_rate = hp.Choice('learning_rate', values=[1e-2, 1e-3, 1e-4])\n",
        "\n",
        "  model.compile(optimizer=keras.optimizers.Adam(learning_rate=hp_learning_rate),\n",
        "                loss=keras.losses.BinaryCrossentropy(),\n",
        "                metrics=['accuracy'])\n",
        "\n",
        "  return model"
      ],
      "execution_count": null,
      "outputs": []
    },
    {
      "cell_type": "code",
      "metadata": {
        "id": "XfAJigjsARFg",
        "colab": {
          "base_uri": "https://localhost:8080/"
        },
        "outputId": "5fc4613a-b28f-420e-cfb0-eb822ad897fc"
      },
      "source": [
        "# Instantiate the tuner and perform hypertuning\n",
        "\n",
        "tuner = kt.Hyperband(model_builder,\n",
        "                     objective='val_accuracy',\n",
        "                     max_epochs=10,\n",
        "                     factor=3,\n",
        "                     directory='my_dir',\n",
        "                     project_name='intro_to_kt')\n",
        "\n",
        "# Checkpoints to monitor Early stopping\n",
        "\n",
        "stop_early = tf.keras.callbacks.EarlyStopping(monitor='val_loss', patience=5)"
      ],
      "execution_count": null,
      "outputs": [
        {
          "output_type": "stream",
          "text": [
            "INFO:tensorflow:Reloading Oracle from existing project my_dir/intro_to_kt/oracle.json\n",
            "INFO:tensorflow:Reloading Tuner from my_dir/intro_to_kt/tuner0.json\n"
          ],
          "name": "stdout"
        }
      ]
    },
    {
      "cell_type": "code",
      "metadata": {
        "colab": {
          "base_uri": "https://localhost:8080/"
        },
        "id": "nhNnNP7wAgNf",
        "outputId": "0b5250f9-e8a0-4f57-c11f-4e9aa5c111c3"
      },
      "source": [
        "tuner.search(X_train, y_train, epochs=200, validation_split=0.2, callbacks=[stop_early])\n",
        "\n",
        "# Get the optimal hyperparameters\n",
        "best_hps=tuner.get_best_hyperparameters(num_trials=2)[0]\n",
        "\n",
        "print(f\"\"\"\n",
        "The hyperparameter search is complete. The optimal number of units in the first densely-connected\n",
        "layer is {best_hps.get('units')} and the optimal learning rate for the optimizer\n",
        "is {best_hps.get('learning_rate')}.\n",
        "\"\"\")\n",
        "\n",
        "# Build the model with the optimal hyperparameters and train it on the data for 200 epochs\n",
        "\n",
        "model = tuner.hypermodel.build(best_hps)\n",
        "history = model.fit(X_train, y_train, epochs=200, validation_split=0.2)\n",
        "\n",
        "val_acc_per_epoch = history.history['val_accuracy']\n",
        "best_epoch = val_acc_per_epoch.index(max(val_acc_per_epoch)) + 1\n",
        "print('Best epoch: %d' % (best_epoch,))\n"
      ],
      "execution_count": null,
      "outputs": [
        {
          "output_type": "stream",
          "text": [
            "INFO:tensorflow:Oracle triggered exit\n",
            "\n",
            "The hyperparameter search is complete. The optimal number of units in the first densely-connected\n",
            "layer is 96 and the optimal learning rate for the optimizer\n",
            "is 0.001.\n",
            "\n",
            "Epoch 1/200\n",
            "6/6 [==============================] - 1s 43ms/step - loss: 0.6922 - accuracy: 0.5836 - val_loss: 0.6839 - val_accuracy: 0.5625\n",
            "Epoch 2/200\n",
            "6/6 [==============================] - 0s 11ms/step - loss: 0.6808 - accuracy: 0.5664 - val_loss: 0.6730 - val_accuracy: 0.5625\n",
            "Epoch 3/200\n",
            "6/6 [==============================] - 0s 12ms/step - loss: 0.6690 - accuracy: 0.5307 - val_loss: 0.6598 - val_accuracy: 0.5625\n",
            "Epoch 4/200\n",
            "6/6 [==============================] - 0s 12ms/step - loss: 0.6420 - accuracy: 0.5468 - val_loss: 0.6421 - val_accuracy: 0.5625\n",
            "Epoch 5/200\n",
            "6/6 [==============================] - 0s 11ms/step - loss: 0.6190 - accuracy: 0.5134 - val_loss: 0.6185 - val_accuracy: 0.5625\n",
            "Epoch 6/200\n",
            "6/6 [==============================] - 0s 12ms/step - loss: 0.5897 - accuracy: 0.5373 - val_loss: 0.5869 - val_accuracy: 0.5625\n",
            "Epoch 7/200\n",
            "6/6 [==============================] - 0s 11ms/step - loss: 0.5648 - accuracy: 0.5254 - val_loss: 0.5595 - val_accuracy: 0.5625\n",
            "Epoch 8/200\n",
            "6/6 [==============================] - 0s 11ms/step - loss: 0.4871 - accuracy: 0.5450 - val_loss: 0.5321 - val_accuracy: 0.5625\n",
            "Epoch 9/200\n",
            "6/6 [==============================] - 0s 10ms/step - loss: 0.4411 - accuracy: 0.4632 - val_loss: 0.5221 - val_accuracy: 0.5625\n",
            "Epoch 10/200\n",
            "6/6 [==============================] - 0s 11ms/step - loss: 0.4324 - accuracy: 0.5324 - val_loss: 0.5188 - val_accuracy: 0.5625\n",
            "Epoch 11/200\n",
            "6/6 [==============================] - 0s 12ms/step - loss: 0.3852 - accuracy: 0.5225 - val_loss: 0.5303 - val_accuracy: 0.5625\n",
            "Epoch 12/200\n",
            "6/6 [==============================] - 0s 11ms/step - loss: 0.3910 - accuracy: 0.5254 - val_loss: 0.5408 - val_accuracy: 0.5625\n",
            "Epoch 13/200\n",
            "6/6 [==============================] - 0s 11ms/step - loss: 0.3322 - accuracy: 0.5368 - val_loss: 0.5422 - val_accuracy: 0.5625\n",
            "Epoch 14/200\n",
            "6/6 [==============================] - 0s 11ms/step - loss: 0.4003 - accuracy: 0.5241 - val_loss: 0.5369 - val_accuracy: 0.5625\n",
            "Epoch 15/200\n",
            "6/6 [==============================] - 0s 11ms/step - loss: 0.3950 - accuracy: 0.5323 - val_loss: 0.5265 - val_accuracy: 0.5625\n",
            "Epoch 16/200\n",
            "6/6 [==============================] - 0s 11ms/step - loss: 0.2905 - accuracy: 0.5436 - val_loss: 0.5317 - val_accuracy: 0.5625\n",
            "Epoch 17/200\n",
            "6/6 [==============================] - 0s 10ms/step - loss: 0.3695 - accuracy: 0.5862 - val_loss: 0.5316 - val_accuracy: 0.5625\n",
            "Epoch 18/200\n",
            "6/6 [==============================] - 0s 11ms/step - loss: 0.2782 - accuracy: 0.5133 - val_loss: 0.5510 - val_accuracy: 0.5625\n",
            "Epoch 19/200\n",
            "6/6 [==============================] - 0s 10ms/step - loss: 0.3740 - accuracy: 0.5167 - val_loss: 0.5465 - val_accuracy: 0.5625\n",
            "Epoch 20/200\n",
            "6/6 [==============================] - 0s 11ms/step - loss: 0.3549 - accuracy: 0.4979 - val_loss: 0.5512 - val_accuracy: 0.5625\n",
            "Epoch 21/200\n",
            "6/6 [==============================] - 0s 10ms/step - loss: 0.3026 - accuracy: 0.5263 - val_loss: 0.5626 - val_accuracy: 0.5625\n",
            "Epoch 22/200\n",
            "6/6 [==============================] - 0s 10ms/step - loss: 0.2852 - accuracy: 0.5559 - val_loss: 0.5664 - val_accuracy: 0.5625\n",
            "Epoch 23/200\n",
            "6/6 [==============================] - 0s 10ms/step - loss: 0.2845 - accuracy: 0.5631 - val_loss: 0.5920 - val_accuracy: 0.5625\n",
            "Epoch 24/200\n",
            "6/6 [==============================] - 0s 10ms/step - loss: 0.3213 - accuracy: 0.5304 - val_loss: 0.5894 - val_accuracy: 0.5625\n",
            "Epoch 25/200\n",
            "6/6 [==============================] - 0s 10ms/step - loss: 0.3317 - accuracy: 0.5128 - val_loss: 0.5776 - val_accuracy: 0.5625\n",
            "Epoch 26/200\n",
            "6/6 [==============================] - 0s 11ms/step - loss: 0.2395 - accuracy: 0.5272 - val_loss: 0.5804 - val_accuracy: 0.5625\n",
            "Epoch 27/200\n",
            "6/6 [==============================] - 0s 14ms/step - loss: 0.2800 - accuracy: 0.5332 - val_loss: 0.5961 - val_accuracy: 0.5625\n",
            "Epoch 28/200\n",
            "6/6 [==============================] - 0s 11ms/step - loss: 0.3152 - accuracy: 0.5417 - val_loss: 0.6008 - val_accuracy: 0.5625\n",
            "Epoch 29/200\n",
            "6/6 [==============================] - 0s 13ms/step - loss: 0.3025 - accuracy: 0.5243 - val_loss: 0.5860 - val_accuracy: 0.5625\n",
            "Epoch 30/200\n",
            "6/6 [==============================] - 0s 10ms/step - loss: 0.2751 - accuracy: 0.5444 - val_loss: 0.5831 - val_accuracy: 0.5625\n",
            "Epoch 31/200\n",
            "6/6 [==============================] - 0s 10ms/step - loss: 0.2421 - accuracy: 0.5500 - val_loss: 0.5980 - val_accuracy: 0.5625\n",
            "Epoch 32/200\n",
            "6/6 [==============================] - 0s 12ms/step - loss: 0.2811 - accuracy: 0.5483 - val_loss: 0.6074 - val_accuracy: 0.5625\n",
            "Epoch 33/200\n",
            "6/6 [==============================] - 0s 11ms/step - loss: 0.3386 - accuracy: 0.5636 - val_loss: 0.6033 - val_accuracy: 0.5625\n",
            "Epoch 34/200\n",
            "6/6 [==============================] - 0s 11ms/step - loss: 0.3434 - accuracy: 0.5991 - val_loss: 0.6031 - val_accuracy: 0.5625\n",
            "Epoch 35/200\n",
            "6/6 [==============================] - 0s 11ms/step - loss: 0.2626 - accuracy: 0.5251 - val_loss: 0.6193 - val_accuracy: 0.5625\n",
            "Epoch 36/200\n",
            "6/6 [==============================] - 0s 11ms/step - loss: 0.3387 - accuracy: 0.5476 - val_loss: 0.6024 - val_accuracy: 0.5625\n",
            "Epoch 37/200\n",
            "6/6 [==============================] - 0s 11ms/step - loss: 0.2843 - accuracy: 0.5319 - val_loss: 0.5857 - val_accuracy: 0.5625\n",
            "Epoch 38/200\n",
            "6/6 [==============================] - 0s 12ms/step - loss: 0.3091 - accuracy: 0.5399 - val_loss: 0.5865 - val_accuracy: 0.5625\n",
            "Epoch 39/200\n",
            "6/6 [==============================] - 0s 12ms/step - loss: 0.2382 - accuracy: 0.5190 - val_loss: 0.5975 - val_accuracy: 0.5625\n",
            "Epoch 40/200\n",
            "6/6 [==============================] - 0s 12ms/step - loss: 0.2919 - accuracy: 0.5695 - val_loss: 0.5971 - val_accuracy: 0.5625\n",
            "Epoch 41/200\n",
            "6/6 [==============================] - 0s 11ms/step - loss: 0.3003 - accuracy: 0.5468 - val_loss: 0.5936 - val_accuracy: 0.5625\n",
            "Epoch 42/200\n",
            "6/6 [==============================] - 0s 14ms/step - loss: 0.2334 - accuracy: 0.6185 - val_loss: 0.5954 - val_accuracy: 0.5625\n",
            "Epoch 43/200\n",
            "6/6 [==============================] - 0s 11ms/step - loss: 0.2889 - accuracy: 0.5781 - val_loss: 0.6240 - val_accuracy: 0.5625\n",
            "Epoch 44/200\n",
            "6/6 [==============================] - 0s 12ms/step - loss: 0.3120 - accuracy: 0.5533 - val_loss: 0.6277 - val_accuracy: 0.5625\n",
            "Epoch 45/200\n",
            "6/6 [==============================] - 0s 11ms/step - loss: 0.2659 - accuracy: 0.5449 - val_loss: 0.6112 - val_accuracy: 0.5625\n",
            "Epoch 46/200\n",
            "6/6 [==============================] - 0s 11ms/step - loss: 0.2782 - accuracy: 0.5251 - val_loss: 0.6095 - val_accuracy: 0.5625\n",
            "Epoch 47/200\n",
            "6/6 [==============================] - 0s 11ms/step - loss: 0.2950 - accuracy: 0.5328 - val_loss: 0.6038 - val_accuracy: 0.5625\n",
            "Epoch 48/200\n",
            "6/6 [==============================] - 0s 12ms/step - loss: 0.2512 - accuracy: 0.5781 - val_loss: 0.5924 - val_accuracy: 0.5625\n",
            "Epoch 49/200\n",
            "6/6 [==============================] - 0s 11ms/step - loss: 0.2270 - accuracy: 0.5266 - val_loss: 0.5943 - val_accuracy: 0.5625\n",
            "Epoch 50/200\n",
            "6/6 [==============================] - 0s 11ms/step - loss: 0.2713 - accuracy: 0.5487 - val_loss: 0.6099 - val_accuracy: 0.5625\n",
            "Epoch 51/200\n",
            "6/6 [==============================] - 0s 11ms/step - loss: 0.2342 - accuracy: 0.5065 - val_loss: 0.6455 - val_accuracy: 0.5625\n",
            "Epoch 52/200\n",
            "6/6 [==============================] - 0s 13ms/step - loss: 0.2827 - accuracy: 0.5273 - val_loss: 0.6453 - val_accuracy: 0.5625\n",
            "Epoch 53/200\n",
            "6/6 [==============================] - 0s 14ms/step - loss: 0.2140 - accuracy: 0.4746 - val_loss: 0.6472 - val_accuracy: 0.5625\n",
            "Epoch 54/200\n",
            "6/6 [==============================] - 0s 11ms/step - loss: 0.2683 - accuracy: 0.5702 - val_loss: 0.6396 - val_accuracy: 0.5625\n",
            "Epoch 55/200\n",
            "6/6 [==============================] - 0s 11ms/step - loss: 0.2635 - accuracy: 0.5153 - val_loss: 0.6512 - val_accuracy: 0.5625\n",
            "Epoch 56/200\n",
            "6/6 [==============================] - 0s 13ms/step - loss: 0.2223 - accuracy: 0.5149 - val_loss: 0.6618 - val_accuracy: 0.5625\n",
            "Epoch 57/200\n",
            "6/6 [==============================] - 0s 11ms/step - loss: 0.2882 - accuracy: 0.5095 - val_loss: 0.6523 - val_accuracy: 0.5625\n",
            "Epoch 58/200\n",
            "6/6 [==============================] - 0s 11ms/step - loss: 0.2926 - accuracy: 0.5327 - val_loss: 0.6478 - val_accuracy: 0.5625\n",
            "Epoch 59/200\n",
            "6/6 [==============================] - 0s 11ms/step - loss: 0.3045 - accuracy: 0.5260 - val_loss: 0.6501 - val_accuracy: 0.5625\n",
            "Epoch 60/200\n",
            "6/6 [==============================] - 0s 11ms/step - loss: 0.2766 - accuracy: 0.5629 - val_loss: 0.6341 - val_accuracy: 0.5625\n",
            "Epoch 61/200\n",
            "6/6 [==============================] - 0s 12ms/step - loss: 0.2718 - accuracy: 0.5292 - val_loss: 0.6299 - val_accuracy: 0.5625\n",
            "Epoch 62/200\n",
            "6/6 [==============================] - 0s 11ms/step - loss: 0.2785 - accuracy: 0.5415 - val_loss: 0.6429 - val_accuracy: 0.5625\n",
            "Epoch 63/200\n",
            "6/6 [==============================] - 0s 11ms/step - loss: 0.2270 - accuracy: 0.5350 - val_loss: 0.6507 - val_accuracy: 0.5625\n",
            "Epoch 64/200\n",
            "6/6 [==============================] - 0s 11ms/step - loss: 0.1913 - accuracy: 0.5542 - val_loss: 0.6520 - val_accuracy: 0.5625\n",
            "Epoch 65/200\n",
            "6/6 [==============================] - 0s 13ms/step - loss: 0.2927 - accuracy: 0.5053 - val_loss: 0.6483 - val_accuracy: 0.5625\n",
            "Epoch 66/200\n",
            "6/6 [==============================] - 0s 11ms/step - loss: 0.2421 - accuracy: 0.4879 - val_loss: 0.6465 - val_accuracy: 0.5625\n",
            "Epoch 67/200\n",
            "6/6 [==============================] - 0s 11ms/step - loss: 0.2687 - accuracy: 0.5586 - val_loss: 0.6464 - val_accuracy: 0.5625\n",
            "Epoch 68/200\n",
            "6/6 [==============================] - 0s 11ms/step - loss: 0.2596 - accuracy: 0.5734 - val_loss: 0.6572 - val_accuracy: 0.5625\n",
            "Epoch 69/200\n",
            "6/6 [==============================] - 0s 12ms/step - loss: 0.1709 - accuracy: 0.5138 - val_loss: 0.6843 - val_accuracy: 0.5625\n",
            "Epoch 70/200\n",
            "6/6 [==============================] - 0s 11ms/step - loss: 0.2348 - accuracy: 0.5101 - val_loss: 0.6709 - val_accuracy: 0.5625\n",
            "Epoch 71/200\n",
            "6/6 [==============================] - 0s 13ms/step - loss: 0.2898 - accuracy: 0.5783 - val_loss: 0.6755 - val_accuracy: 0.5625\n",
            "Epoch 72/200\n",
            "6/6 [==============================] - 0s 12ms/step - loss: 0.3290 - accuracy: 0.5269 - val_loss: 0.6449 - val_accuracy: 0.5625\n",
            "Epoch 73/200\n",
            "6/6 [==============================] - 0s 11ms/step - loss: 0.2848 - accuracy: 0.5104 - val_loss: 0.6388 - val_accuracy: 0.5625\n",
            "Epoch 74/200\n",
            "6/6 [==============================] - 0s 12ms/step - loss: 0.2177 - accuracy: 0.5655 - val_loss: 0.6562 - val_accuracy: 0.5625\n",
            "Epoch 75/200\n",
            "6/6 [==============================] - 0s 11ms/step - loss: 0.2524 - accuracy: 0.5228 - val_loss: 0.6613 - val_accuracy: 0.5625\n",
            "Epoch 76/200\n",
            "6/6 [==============================] - 0s 12ms/step - loss: 0.1766 - accuracy: 0.5316 - val_loss: 0.6701 - val_accuracy: 0.5625\n",
            "Epoch 77/200\n",
            "6/6 [==============================] - 0s 13ms/step - loss: 0.2521 - accuracy: 0.5573 - val_loss: 0.6652 - val_accuracy: 0.5625\n",
            "Epoch 78/200\n",
            "6/6 [==============================] - 0s 11ms/step - loss: 0.2541 - accuracy: 0.5121 - val_loss: 0.6625 - val_accuracy: 0.5625\n",
            "Epoch 79/200\n",
            "6/6 [==============================] - 0s 11ms/step - loss: 0.1982 - accuracy: 0.5054 - val_loss: 0.6618 - val_accuracy: 0.5625\n",
            "Epoch 80/200\n",
            "6/6 [==============================] - 0s 12ms/step - loss: 0.2244 - accuracy: 0.5395 - val_loss: 0.6635 - val_accuracy: 0.5625\n",
            "Epoch 81/200\n",
            "6/6 [==============================] - 0s 13ms/step - loss: 0.1751 - accuracy: 0.5333 - val_loss: 0.6685 - val_accuracy: 0.5625\n",
            "Epoch 82/200\n",
            "6/6 [==============================] - 0s 13ms/step - loss: 0.2218 - accuracy: 0.5408 - val_loss: 0.6731 - val_accuracy: 0.5625\n",
            "Epoch 83/200\n",
            "6/6 [==============================] - 0s 11ms/step - loss: 0.2560 - accuracy: 0.5528 - val_loss: 0.6762 - val_accuracy: 0.5625\n",
            "Epoch 84/200\n",
            "6/6 [==============================] - 0s 11ms/step - loss: 0.1788 - accuracy: 0.5391 - val_loss: 0.6752 - val_accuracy: 0.5625\n",
            "Epoch 85/200\n",
            "6/6 [==============================] - 0s 14ms/step - loss: 0.2005 - accuracy: 0.5714 - val_loss: 0.6790 - val_accuracy: 0.5625\n",
            "Epoch 86/200\n",
            "6/6 [==============================] - 0s 11ms/step - loss: 0.1759 - accuracy: 0.5249 - val_loss: 0.6875 - val_accuracy: 0.5625\n",
            "Epoch 87/200\n",
            "6/6 [==============================] - 0s 11ms/step - loss: 0.1700 - accuracy: 0.6016 - val_loss: 0.6981 - val_accuracy: 0.5625\n",
            "Epoch 88/200\n",
            "6/6 [==============================] - 0s 11ms/step - loss: 0.2758 - accuracy: 0.4961 - val_loss: 0.6972 - val_accuracy: 0.5625\n",
            "Epoch 89/200\n",
            "6/6 [==============================] - 0s 11ms/step - loss: 0.2033 - accuracy: 0.5201 - val_loss: 0.7083 - val_accuracy: 0.5625\n",
            "Epoch 90/200\n",
            "6/6 [==============================] - 0s 11ms/step - loss: 0.2005 - accuracy: 0.5770 - val_loss: 0.7092 - val_accuracy: 0.5625\n",
            "Epoch 91/200\n",
            "6/6 [==============================] - 0s 12ms/step - loss: 0.2768 - accuracy: 0.5545 - val_loss: 0.7108 - val_accuracy: 0.5625\n",
            "Epoch 92/200\n",
            "6/6 [==============================] - 0s 12ms/step - loss: 0.2210 - accuracy: 0.5493 - val_loss: 0.7058 - val_accuracy: 0.5625\n",
            "Epoch 93/200\n",
            "6/6 [==============================] - 0s 11ms/step - loss: 0.1912 - accuracy: 0.5282 - val_loss: 0.7090 - val_accuracy: 0.5625\n",
            "Epoch 94/200\n",
            "6/6 [==============================] - 0s 11ms/step - loss: 0.1868 - accuracy: 0.5286 - val_loss: 0.7126 - val_accuracy: 0.5625\n",
            "Epoch 95/200\n",
            "6/6 [==============================] - 0s 12ms/step - loss: 0.2099 - accuracy: 0.4921 - val_loss: 0.7124 - val_accuracy: 0.5625\n",
            "Epoch 96/200\n",
            "6/6 [==============================] - 0s 11ms/step - loss: 0.2109 - accuracy: 0.4674 - val_loss: 0.7226 - val_accuracy: 0.5625\n",
            "Epoch 97/200\n",
            "6/6 [==============================] - 0s 11ms/step - loss: 0.2158 - accuracy: 0.5496 - val_loss: 0.7325 - val_accuracy: 0.5625\n",
            "Epoch 98/200\n",
            "6/6 [==============================] - 0s 11ms/step - loss: 0.2256 - accuracy: 0.5141 - val_loss: 0.7217 - val_accuracy: 0.5625\n",
            "Epoch 99/200\n",
            "6/6 [==============================] - 0s 11ms/step - loss: 0.2098 - accuracy: 0.5295 - val_loss: 0.7235 - val_accuracy: 0.5625\n",
            "Epoch 100/200\n",
            "6/6 [==============================] - 0s 14ms/step - loss: 0.1800 - accuracy: 0.5289 - val_loss: 0.7240 - val_accuracy: 0.5625\n",
            "Epoch 101/200\n",
            "6/6 [==============================] - 0s 11ms/step - loss: 0.2011 - accuracy: 0.5778 - val_loss: 0.7158 - val_accuracy: 0.5625\n",
            "Epoch 102/200\n",
            "6/6 [==============================] - 0s 12ms/step - loss: 0.1832 - accuracy: 0.5042 - val_loss: 0.7284 - val_accuracy: 0.5625\n",
            "Epoch 103/200\n",
            "6/6 [==============================] - 0s 12ms/step - loss: 0.1861 - accuracy: 0.5083 - val_loss: 0.7372 - val_accuracy: 0.5625\n",
            "Epoch 104/200\n",
            "6/6 [==============================] - 0s 12ms/step - loss: 0.2061 - accuracy: 0.5114 - val_loss: 0.7446 - val_accuracy: 0.5625\n",
            "Epoch 105/200\n",
            "6/6 [==============================] - 0s 11ms/step - loss: 0.1635 - accuracy: 0.5362 - val_loss: 0.7400 - val_accuracy: 0.5625\n",
            "Epoch 106/200\n",
            "6/6 [==============================] - 0s 11ms/step - loss: 0.1551 - accuracy: 0.5284 - val_loss: 0.7333 - val_accuracy: 0.5625\n",
            "Epoch 107/200\n",
            "6/6 [==============================] - 0s 11ms/step - loss: 0.1886 - accuracy: 0.5606 - val_loss: 0.7280 - val_accuracy: 0.5625\n",
            "Epoch 108/200\n",
            "6/6 [==============================] - 0s 12ms/step - loss: 0.2117 - accuracy: 0.5544 - val_loss: 0.7247 - val_accuracy: 0.5625\n",
            "Epoch 109/200\n",
            "6/6 [==============================] - 0s 12ms/step - loss: 0.1907 - accuracy: 0.5787 - val_loss: 0.7296 - val_accuracy: 0.5625\n",
            "Epoch 110/200\n",
            "6/6 [==============================] - 0s 11ms/step - loss: 0.1575 - accuracy: 0.5260 - val_loss: 0.7385 - val_accuracy: 0.5625\n",
            "Epoch 111/200\n",
            "6/6 [==============================] - 0s 11ms/step - loss: 0.2049 - accuracy: 0.5543 - val_loss: 0.7308 - val_accuracy: 0.5625\n",
            "Epoch 112/200\n",
            "6/6 [==============================] - 0s 11ms/step - loss: 0.1762 - accuracy: 0.5594 - val_loss: 0.7157 - val_accuracy: 0.5625\n",
            "Epoch 113/200\n",
            "6/6 [==============================] - 0s 11ms/step - loss: 0.1775 - accuracy: 0.5040 - val_loss: 0.7084 - val_accuracy: 0.5625\n",
            "Epoch 114/200\n",
            "6/6 [==============================] - 0s 13ms/step - loss: 0.1478 - accuracy: 0.5472 - val_loss: 0.7148 - val_accuracy: 0.5625\n",
            "Epoch 115/200\n",
            "6/6 [==============================] - 0s 11ms/step - loss: 0.1824 - accuracy: 0.5414 - val_loss: 0.7094 - val_accuracy: 0.5625\n",
            "Epoch 116/200\n",
            "6/6 [==============================] - 0s 11ms/step - loss: 0.2071 - accuracy: 0.5324 - val_loss: 0.7196 - val_accuracy: 0.5625\n",
            "Epoch 117/200\n",
            "6/6 [==============================] - 0s 12ms/step - loss: 0.2123 - accuracy: 0.5902 - val_loss: 0.7499 - val_accuracy: 0.5625\n",
            "Epoch 118/200\n",
            "6/6 [==============================] - 0s 12ms/step - loss: 0.2351 - accuracy: 0.5357 - val_loss: 0.7302 - val_accuracy: 0.5625\n",
            "Epoch 119/200\n",
            "6/6 [==============================] - 0s 12ms/step - loss: 0.1468 - accuracy: 0.5420 - val_loss: 0.7515 - val_accuracy: 0.5625\n",
            "Epoch 120/200\n",
            "6/6 [==============================] - 0s 11ms/step - loss: 0.1996 - accuracy: 0.5276 - val_loss: 0.7461 - val_accuracy: 0.5625\n",
            "Epoch 121/200\n",
            "6/6 [==============================] - 0s 13ms/step - loss: 0.2178 - accuracy: 0.5128 - val_loss: 0.7485 - val_accuracy: 0.5625\n",
            "Epoch 122/200\n",
            "6/6 [==============================] - 0s 12ms/step - loss: 0.2409 - accuracy: 0.5440 - val_loss: 0.7577 - val_accuracy: 0.5625\n",
            "Epoch 123/200\n",
            "6/6 [==============================] - 0s 11ms/step - loss: 0.1857 - accuracy: 0.5147 - val_loss: 0.7687 - val_accuracy: 0.5625\n",
            "Epoch 124/200\n",
            "6/6 [==============================] - 0s 12ms/step - loss: 0.2137 - accuracy: 0.5603 - val_loss: 0.7695 - val_accuracy: 0.5625\n",
            "Epoch 125/200\n",
            "6/6 [==============================] - 0s 12ms/step - loss: 0.1681 - accuracy: 0.5504 - val_loss: 0.7606 - val_accuracy: 0.5625\n",
            "Epoch 126/200\n",
            "6/6 [==============================] - 0s 12ms/step - loss: 0.1906 - accuracy: 0.5301 - val_loss: 0.7545 - val_accuracy: 0.5625\n",
            "Epoch 127/200\n",
            "6/6 [==============================] - 0s 12ms/step - loss: 0.2069 - accuracy: 0.5466 - val_loss: 0.7450 - val_accuracy: 0.5625\n",
            "Epoch 128/200\n",
            "6/6 [==============================] - 0s 15ms/step - loss: 0.1863 - accuracy: 0.5362 - val_loss: 0.7492 - val_accuracy: 0.5625\n",
            "Epoch 129/200\n",
            "6/6 [==============================] - 0s 11ms/step - loss: 0.1710 - accuracy: 0.5548 - val_loss: 0.7599 - val_accuracy: 0.5625\n",
            "Epoch 130/200\n",
            "6/6 [==============================] - 0s 11ms/step - loss: 0.1806 - accuracy: 0.5488 - val_loss: 0.7778 - val_accuracy: 0.5625\n",
            "Epoch 131/200\n",
            "6/6 [==============================] - 0s 11ms/step - loss: 0.2109 - accuracy: 0.5251 - val_loss: 0.8039 - val_accuracy: 0.5625\n",
            "Epoch 132/200\n",
            "6/6 [==============================] - 0s 12ms/step - loss: 0.1731 - accuracy: 0.5937 - val_loss: 0.7862 - val_accuracy: 0.5625\n",
            "Epoch 133/200\n",
            "6/6 [==============================] - 0s 11ms/step - loss: 0.1941 - accuracy: 0.5255 - val_loss: 0.7523 - val_accuracy: 0.5625\n",
            "Epoch 134/200\n",
            "6/6 [==============================] - 0s 11ms/step - loss: 0.1925 - accuracy: 0.5353 - val_loss: 0.7719 - val_accuracy: 0.5625\n",
            "Epoch 135/200\n",
            "6/6 [==============================] - 0s 11ms/step - loss: 0.1732 - accuracy: 0.5121 - val_loss: 0.8226 - val_accuracy: 0.5625\n",
            "Epoch 136/200\n",
            "6/6 [==============================] - 0s 11ms/step - loss: 0.2180 - accuracy: 0.5149 - val_loss: 0.7830 - val_accuracy: 0.5625\n",
            "Epoch 137/200\n",
            "6/6 [==============================] - 0s 11ms/step - loss: 0.1968 - accuracy: 0.5574 - val_loss: 0.7742 - val_accuracy: 0.5625\n",
            "Epoch 138/200\n",
            "6/6 [==============================] - 0s 13ms/step - loss: 0.1580 - accuracy: 0.5193 - val_loss: 0.7923 - val_accuracy: 0.5625\n",
            "Epoch 139/200\n",
            "6/6 [==============================] - 0s 11ms/step - loss: 0.1934 - accuracy: 0.5343 - val_loss: 0.8308 - val_accuracy: 0.5625\n",
            "Epoch 140/200\n",
            "6/6 [==============================] - 0s 13ms/step - loss: 0.1790 - accuracy: 0.5195 - val_loss: 0.7965 - val_accuracy: 0.5625\n",
            "Epoch 141/200\n",
            "6/6 [==============================] - 0s 11ms/step - loss: 0.1559 - accuracy: 0.5157 - val_loss: 0.7883 - val_accuracy: 0.5625\n",
            "Epoch 142/200\n",
            "6/6 [==============================] - 0s 12ms/step - loss: 0.1354 - accuracy: 0.5363 - val_loss: 0.8176 - val_accuracy: 0.5625\n",
            "Epoch 143/200\n",
            "6/6 [==============================] - 0s 13ms/step - loss: 0.1370 - accuracy: 0.5564 - val_loss: 0.7956 - val_accuracy: 0.5625\n",
            "Epoch 144/200\n",
            "6/6 [==============================] - 0s 12ms/step - loss: 0.1593 - accuracy: 0.5297 - val_loss: 0.8004 - val_accuracy: 0.5625\n",
            "Epoch 145/200\n",
            "6/6 [==============================] - 0s 11ms/step - loss: 0.2091 - accuracy: 0.5475 - val_loss: 0.8044 - val_accuracy: 0.5625\n",
            "Epoch 146/200\n",
            "6/6 [==============================] - 0s 12ms/step - loss: 0.1961 - accuracy: 0.4979 - val_loss: 0.8149 - val_accuracy: 0.5625\n",
            "Epoch 147/200\n",
            "6/6 [==============================] - 0s 11ms/step - loss: 0.1359 - accuracy: 0.5444 - val_loss: 0.8428 - val_accuracy: 0.5625\n",
            "Epoch 148/200\n",
            "6/6 [==============================] - 0s 11ms/step - loss: 0.1855 - accuracy: 0.5682 - val_loss: 0.7971 - val_accuracy: 0.5625\n",
            "Epoch 149/200\n",
            "6/6 [==============================] - 0s 12ms/step - loss: 0.1582 - accuracy: 0.5088 - val_loss: 0.8055 - val_accuracy: 0.5625\n",
            "Epoch 150/200\n",
            "6/6 [==============================] - 0s 12ms/step - loss: 0.1592 - accuracy: 0.5440 - val_loss: 0.8119 - val_accuracy: 0.5625\n",
            "Epoch 151/200\n",
            "6/6 [==============================] - 0s 12ms/step - loss: 0.2640 - accuracy: 0.5260 - val_loss: 0.7908 - val_accuracy: 0.5625\n",
            "Epoch 152/200\n",
            "6/6 [==============================] - 0s 11ms/step - loss: 0.1741 - accuracy: 0.5562 - val_loss: 0.8431 - val_accuracy: 0.5625\n",
            "Epoch 153/200\n",
            "6/6 [==============================] - 0s 11ms/step - loss: 0.1633 - accuracy: 0.5432 - val_loss: 0.8251 - val_accuracy: 0.5625\n",
            "Epoch 154/200\n",
            "6/6 [==============================] - 0s 11ms/step - loss: 0.1602 - accuracy: 0.5203 - val_loss: 0.7996 - val_accuracy: 0.5625\n",
            "Epoch 155/200\n",
            "6/6 [==============================] - 0s 13ms/step - loss: 0.1657 - accuracy: 0.5228 - val_loss: 0.8272 - val_accuracy: 0.5625\n",
            "Epoch 156/200\n",
            "6/6 [==============================] - 0s 12ms/step - loss: 0.1504 - accuracy: 0.5261 - val_loss: 0.8656 - val_accuracy: 0.5625\n",
            "Epoch 157/200\n",
            "6/6 [==============================] - 0s 12ms/step - loss: 0.1758 - accuracy: 0.5213 - val_loss: 0.8693 - val_accuracy: 0.5625\n",
            "Epoch 158/200\n",
            "6/6 [==============================] - 0s 12ms/step - loss: 0.1294 - accuracy: 0.5219 - val_loss: 0.9043 - val_accuracy: 0.5625\n",
            "Epoch 159/200\n",
            "6/6 [==============================] - 0s 12ms/step - loss: 0.1524 - accuracy: 0.5227 - val_loss: 0.8932 - val_accuracy: 0.5625\n",
            "Epoch 160/200\n",
            "6/6 [==============================] - 0s 12ms/step - loss: 0.1702 - accuracy: 0.5064 - val_loss: 0.9136 - val_accuracy: 0.5625\n",
            "Epoch 161/200\n",
            "6/6 [==============================] - 0s 12ms/step - loss: 0.1215 - accuracy: 0.5336 - val_loss: 0.9280 - val_accuracy: 0.5625\n",
            "Epoch 162/200\n",
            "6/6 [==============================] - 0s 12ms/step - loss: 0.1336 - accuracy: 0.5269 - val_loss: 0.9128 - val_accuracy: 0.5625\n",
            "Epoch 163/200\n",
            "6/6 [==============================] - 0s 14ms/step - loss: 0.1370 - accuracy: 0.5630 - val_loss: 0.9285 - val_accuracy: 0.5625\n",
            "Epoch 164/200\n",
            "6/6 [==============================] - 0s 12ms/step - loss: 0.1852 - accuracy: 0.5300 - val_loss: 0.9465 - val_accuracy: 0.5625\n",
            "Epoch 165/200\n",
            "6/6 [==============================] - 0s 11ms/step - loss: 0.1996 - accuracy: 0.5391 - val_loss: 0.8870 - val_accuracy: 0.5625\n",
            "Epoch 166/200\n",
            "6/6 [==============================] - 0s 12ms/step - loss: 0.1095 - accuracy: 0.5503 - val_loss: 0.8419 - val_accuracy: 0.5625\n",
            "Epoch 167/200\n",
            "6/6 [==============================] - 0s 12ms/step - loss: 0.1696 - accuracy: 0.5601 - val_loss: 0.8528 - val_accuracy: 0.5625\n",
            "Epoch 168/200\n",
            "6/6 [==============================] - 0s 12ms/step - loss: 0.1984 - accuracy: 0.5362 - val_loss: 0.8590 - val_accuracy: 0.5625\n",
            "Epoch 169/200\n",
            "6/6 [==============================] - 0s 12ms/step - loss: 0.1463 - accuracy: 0.5321 - val_loss: 0.8192 - val_accuracy: 0.5625\n",
            "Epoch 170/200\n",
            "6/6 [==============================] - 0s 12ms/step - loss: 0.1190 - accuracy: 0.5073 - val_loss: 0.8304 - val_accuracy: 0.5625\n",
            "Epoch 171/200\n",
            "6/6 [==============================] - 0s 13ms/step - loss: 0.1222 - accuracy: 0.5737 - val_loss: 0.8888 - val_accuracy: 0.5625\n",
            "Epoch 172/200\n",
            "6/6 [==============================] - 0s 13ms/step - loss: 0.1348 - accuracy: 0.5258 - val_loss: 0.9178 - val_accuracy: 0.5625\n",
            "Epoch 173/200\n",
            "6/6 [==============================] - 0s 13ms/step - loss: 0.2024 - accuracy: 0.5502 - val_loss: 0.8891 - val_accuracy: 0.5625\n",
            "Epoch 174/200\n",
            "6/6 [==============================] - 0s 13ms/step - loss: 0.2044 - accuracy: 0.5307 - val_loss: 0.8716 - val_accuracy: 0.5625\n",
            "Epoch 175/200\n",
            "6/6 [==============================] - 0s 12ms/step - loss: 0.1840 - accuracy: 0.5045 - val_loss: 0.8490 - val_accuracy: 0.5625\n",
            "Epoch 176/200\n",
            "6/6 [==============================] - 0s 12ms/step - loss: 0.1666 - accuracy: 0.5141 - val_loss: 0.8661 - val_accuracy: 0.5625\n",
            "Epoch 177/200\n",
            "6/6 [==============================] - 0s 12ms/step - loss: 0.1825 - accuracy: 0.5237 - val_loss: 0.9232 - val_accuracy: 0.5625\n",
            "Epoch 178/200\n",
            "6/6 [==============================] - 0s 11ms/step - loss: 0.1570 - accuracy: 0.5437 - val_loss: 0.9366 - val_accuracy: 0.5625\n",
            "Epoch 179/200\n",
            "6/6 [==============================] - 0s 12ms/step - loss: 0.1183 - accuracy: 0.5396 - val_loss: 0.9262 - val_accuracy: 0.5625\n",
            "Epoch 180/200\n",
            "6/6 [==============================] - 0s 11ms/step - loss: 0.1320 - accuracy: 0.5335 - val_loss: 0.9375 - val_accuracy: 0.5625\n",
            "Epoch 181/200\n",
            "6/6 [==============================] - 0s 12ms/step - loss: 0.0931 - accuracy: 0.5229 - val_loss: 0.9719 - val_accuracy: 0.5625\n",
            "Epoch 182/200\n",
            "6/6 [==============================] - 0s 14ms/step - loss: 0.1505 - accuracy: 0.5711 - val_loss: 0.9317 - val_accuracy: 0.5625\n",
            "Epoch 183/200\n",
            "6/6 [==============================] - 0s 12ms/step - loss: 0.1278 - accuracy: 0.5501 - val_loss: 0.9389 - val_accuracy: 0.5625\n",
            "Epoch 184/200\n",
            "6/6 [==============================] - 0s 13ms/step - loss: 0.1422 - accuracy: 0.5115 - val_loss: 0.8989 - val_accuracy: 0.5625\n",
            "Epoch 185/200\n",
            "6/6 [==============================] - 0s 12ms/step - loss: 0.1241 - accuracy: 0.5403 - val_loss: 0.9211 - val_accuracy: 0.5625\n",
            "Epoch 186/200\n",
            "6/6 [==============================] - 0s 14ms/step - loss: 0.1271 - accuracy: 0.5539 - val_loss: 0.9690 - val_accuracy: 0.5625\n",
            "Epoch 187/200\n",
            "6/6 [==============================] - 0s 13ms/step - loss: 0.1310 - accuracy: 0.5458 - val_loss: 0.9763 - val_accuracy: 0.5625\n",
            "Epoch 188/200\n",
            "6/6 [==============================] - 0s 12ms/step - loss: 0.1379 - accuracy: 0.5625 - val_loss: 0.9604 - val_accuracy: 0.5625\n",
            "Epoch 189/200\n",
            "6/6 [==============================] - 0s 14ms/step - loss: 0.1340 - accuracy: 0.5359 - val_loss: 0.9633 - val_accuracy: 0.5625\n",
            "Epoch 190/200\n",
            "6/6 [==============================] - 0s 12ms/step - loss: 0.1477 - accuracy: 0.5398 - val_loss: 1.0724 - val_accuracy: 0.5625\n",
            "Epoch 191/200\n",
            "6/6 [==============================] - 0s 14ms/step - loss: 0.1500 - accuracy: 0.5337 - val_loss: 1.0506 - val_accuracy: 0.5625\n",
            "Epoch 192/200\n",
            "6/6 [==============================] - 0s 11ms/step - loss: 0.1465 - accuracy: 0.5433 - val_loss: 0.9538 - val_accuracy: 0.5625\n",
            "Epoch 193/200\n",
            "6/6 [==============================] - 0s 12ms/step - loss: 0.1205 - accuracy: 0.5467 - val_loss: 0.9919 - val_accuracy: 0.5625\n",
            "Epoch 194/200\n",
            "6/6 [==============================] - 0s 11ms/step - loss: 0.1432 - accuracy: 0.5088 - val_loss: 1.0317 - val_accuracy: 0.5625\n",
            "Epoch 195/200\n",
            "6/6 [==============================] - 0s 12ms/step - loss: 0.0993 - accuracy: 0.5349 - val_loss: 0.9869 - val_accuracy: 0.5625\n",
            "Epoch 196/200\n",
            "6/6 [==============================] - 0s 13ms/step - loss: 0.1757 - accuracy: 0.5340 - val_loss: 1.0295 - val_accuracy: 0.5625\n",
            "Epoch 197/200\n",
            "6/6 [==============================] - 0s 13ms/step - loss: 0.2196 - accuracy: 0.5432 - val_loss: 1.0748 - val_accuracy: 0.5625\n",
            "Epoch 198/200\n",
            "6/6 [==============================] - 0s 11ms/step - loss: 0.1322 - accuracy: 0.5023 - val_loss: 1.0143 - val_accuracy: 0.5625\n",
            "Epoch 199/200\n",
            "6/6 [==============================] - 0s 13ms/step - loss: 0.1673 - accuracy: 0.5384 - val_loss: 0.9428 - val_accuracy: 0.5625\n",
            "Epoch 200/200\n",
            "6/6 [==============================] - 0s 11ms/step - loss: 0.1761 - accuracy: 0.5542 - val_loss: 0.9393 - val_accuracy: 0.5625\n",
            "Best epoch: 1\n"
          ],
          "name": "stdout"
        }
      ]
    },
    {
      "cell_type": "code",
      "metadata": {
        "colab": {
          "base_uri": "https://localhost:8080/"
        },
        "id": "-j9OxC2qAgJL",
        "outputId": "1f02305e-c030-4361-a8fa-1c23c5135ba8"
      },
      "source": [
        "hypermodel = tuner.hypermodel.build(best_hps)\n",
        "\n",
        "''' Retrain the model'''\n",
        "\n",
        "hypermodel.fit(X_train, y_train, epochs=best_epoch, validation_split=0.2)\n",
        "\n",
        "''' Evaluating the hypermodel on the test set and priniting the test results '''\n",
        "\n",
        "eval_result = hypermodel.evaluate(X_test, y_test)\n",
        "print(\"[test loss, test accuracy]:\", eval_result)"
      ],
      "execution_count": null,
      "outputs": [
        {
          "output_type": "stream",
          "text": [
            "6/6 [==============================] - 1s 49ms/step - loss: 0.6927 - accuracy: 0.5199 - val_loss: 0.6866 - val_accuracy: 0.5625\n",
            "2/2 [==============================] - 0s 6ms/step - loss: 0.6844 - accuracy: 0.5410\n",
            "[test loss, test accuracy]: [0.6843596696853638, 0.5409836173057556]\n"
          ],
          "name": "stdout"
        }
      ]
    },
    {
      "cell_type": "markdown",
      "metadata": {
        "id": "kFGC_Dv4Cy-4"
      },
      "source": [
        "**Analysis of the model**\n",
        "\n",
        "We can see that clearly DNN is not performing well both on test set as well as the train set. In other words, the model is underfitting.As the model is not performing well, we will use other models to build and train them."
      ]
    },
    {
      "cell_type": "markdown",
      "metadata": {
        "id": "4IQsRtAiNtE1"
      },
      "source": [
        "**Different Machine Learning Models**"
      ]
    },
    {
      "cell_type": "markdown",
      "metadata": {
        "id": "efE_JbWaXhn9"
      },
      "source": [
        "We build a pipeline to perform hyperparamter tuning (Grid Search CV) on different classification models and we choose the best accuracy of the model based on hyper-parameter tuning.We then save the model of the best performing model."
      ]
    },
    {
      "cell_type": "code",
      "metadata": {
        "colab": {
          "base_uri": "https://localhost:8080/"
        },
        "id": "TCUvU7CAVLoK",
        "outputId": "49d5056d-ea9e-4b4b-f922-9f30d8fe2a0d"
      },
      "source": [
        "''' Importing the Grid Search Library '''\n",
        "\n",
        "from sklearn.model_selection import GridSearchCV\n",
        "\n",
        "''' Creating a pipeline of models for hyper parameter tuning '''\n",
        "\n",
        "pipe = Pipeline([(\"classifier\", RandomForestClassifier())])\n",
        "\n",
        "''' Create dictionary with candidate learning algorithms and their hyperparameters'''\n",
        "\n",
        "grid_param = [\n",
        "                {\"classifier\": [LogisticRegression()],\n",
        "                 \"classifier__penalty\": ['l2','l1'],\n",
        "                 \"classifier__C\": np.logspace(0, 4, 10)\n",
        "                 },\n",
        "                {\"classifier\": [LogisticRegression()],\n",
        "                 \"classifier__penalty\": ['l2'],\n",
        "                 \"classifier__C\": np.logspace(0, 4, 10),\n",
        "                 \"classifier__solver\":['newton-cg','saga','sag','liblinear'] ##This solvers don't allow L1 penalty\n",
        "                 },\n",
        "                {\"classifier\": [RandomForestClassifier()],\n",
        "                 \"classifier__n_estimators\": [10, 100, 1000],\n",
        "                 \"classifier__max_depth\":[5,8,15,25,30,None],\n",
        "                 \"classifier__min_samples_leaf\":[1,2,5,10,15,100],\n",
        "                 \"classifier__max_leaf_nodes\": [2, 5,10]},\n",
        "                {\"classifier\": [SVC()],\n",
        "                 \"classifier__kernel\": ['linear', 'poly', 'rbf', 'sigmoid'],\n",
        "                 \"classifier__gamma\":['scale','auto'],\n",
        "                 'classifier__C': [0.1, 1, 10, 100, 1000]},\n",
        "                {\"classifier\": [DecisionTreeClassifier()],\n",
        "                 \"classifier__criterion\": ['gini', 'entropy'],\n",
        "                 \"classifier__splitter\":['best','random'],\n",
        "                 'classifier__max_depth': [5,8,15,25,30,None],\n",
        "                 'classifier__min_samples_split': [1,5,10,15,20,None],\n",
        "                 'classifier__min_samples_leaf': [1,5,10,15,20,None]},\n",
        "                {\"classifier\": [GaussianNB()],\n",
        "                 \"classifier__var_smoothing\": [1e-9,1e-8,1e-7,1e-5]},\n",
        "                {\"classifier\": [KNeighborsClassifier()],\n",
        "                 \"classifier__n_neighbors\": [1,5,10,15,20,25]},\n",
        "              ]\n",
        "\n",
        "''' create a gridsearch of the pipeline, the fit the best model '''\n",
        "\n",
        "gridsearch = GridSearchCV(pipe, grid_param, cv=5, verbose=0,n_jobs=-1) # Fit grid search\n",
        "best_model = gridsearch.fit(X_train,y_train)"
      ],
      "execution_count": null,
      "outputs": [
        {
          "output_type": "stream",
          "text": [
            "/usr/local/lib/python3.7/dist-packages/sklearn/pipeline.py:354: DataConversionWarning: A column-vector y was passed when a 1d array was expected. Please change the shape of y to (n_samples,), for example using ravel().\n",
            "  self._final_estimator.fit(Xt, y, **fit_params)\n"
          ],
          "name": "stderr"
        }
      ]
    },
    {
      "cell_type": "code",
      "metadata": {
        "colab": {
          "base_uri": "https://localhost:8080/"
        },
        "id": "kl0dtTO2VLqz",
        "outputId": "6ded6023-7334-43eb-a129-123ee24b4517"
      },
      "source": [
        "''' Selcting the best model '''\n",
        "\n",
        "print(best_model.best_estimator_)\n",
        "\n",
        "''' Printing the test accuracy of the best moedl '''\n",
        "\n",
        "print(\"The mean accuracy of the model is:\",best_model.score(X_test,y_test))"
      ],
      "execution_count": null,
      "outputs": [
        {
          "output_type": "stream",
          "text": [
            "Pipeline(memory=None,\n",
            "         steps=[('classifier',\n",
            "                 RandomForestClassifier(bootstrap=True, ccp_alpha=0.0,\n",
            "                                        class_weight=None, criterion='gini',\n",
            "                                        max_depth=25, max_features='auto',\n",
            "                                        max_leaf_nodes=2, max_samples=None,\n",
            "                                        min_impurity_decrease=0.0,\n",
            "                                        min_impurity_split=None,\n",
            "                                        min_samples_leaf=15,\n",
            "                                        min_samples_split=2,\n",
            "                                        min_weight_fraction_leaf=0.0,\n",
            "                                        n_estimators=100, n_jobs=None,\n",
            "                                        oob_score=False, random_state=None,\n",
            "                                        verbose=0, warm_start=False))],\n",
            "         verbose=False)\n",
            "The mean accuracy of the model is: 0.819672131147541\n"
          ],
          "name": "stdout"
        }
      ]
    },
    {
      "cell_type": "markdown",
      "metadata": {
        "id": "wb7JWvPAStN7"
      },
      "source": [
        "Based on the above hyper-parameters, we define the SVM model with the best parameters and train the model."
      ]
    },
    {
      "cell_type": "code",
      "metadata": {
        "colab": {
          "base_uri": "https://localhost:8080/"
        },
        "id": "DrggSAc0Rtjs",
        "outputId": "39d91a8a-2424-410c-add4-a20b84af9e95"
      },
      "source": [
        "''' Defining the SVM model with best hyper-parameters '''\n",
        "\n",
        "svm_model = SVC(C=10, break_ties=False, cache_size=200, class_weight=None,\n",
        "                     coef0=0.0, decision_function_shape='ovr', degree=3,\n",
        "                     gamma='scale', kernel='linear', max_iter=-1,\n",
        "                     probability=True, random_state=None, shrinking=True,\n",
        "                     tol=0.001, verbose=False)\n",
        "\n",
        "''' Training the model '''\n",
        "\n",
        "svm_model.fit(X_train, y_train)\n",
        "\n",
        "''' Evaluating the train and test scores for SVM model'''\n",
        "\n",
        "train_score =  svm_model.score(X_train,y_train)\n",
        "test_score =  svm_model.score(X_test,y_test)  \n",
        "\n",
        "''' Printing the Train and Test scores of SVM Model '''\n",
        "\n",
        "print(\"test score: {} train score: {}\".format(test_score,train_score),'\\n')\n",
        "\n",
        "''' Predicting the test values '''\n",
        "\n",
        "y_pred =  svm_model.predict(X_test)"
      ],
      "execution_count": null,
      "outputs": [
        {
          "output_type": "stream",
          "text": [
            "/usr/local/lib/python3.7/dist-packages/sklearn/utils/validation.py:760: DataConversionWarning: A column-vector y was passed when a 1d array was expected. Please change the shape of y to (n_samples, ), for example using ravel().\n",
            "  y = column_or_1d(y, warn=True)\n"
          ],
          "name": "stderr"
        },
        {
          "output_type": "stream",
          "text": [
            "test score: 0.8032786885245902 train score: 0.8791666666666667 \n",
            "\n"
          ],
          "name": "stdout"
        }
      ]
    },
    {
      "cell_type": "markdown",
      "metadata": {
        "id": "Hs8vw-yfOXek"
      },
      "source": [
        "**Analysis of the performance of the model**\n",
        "\n",
        "Based on the above hyper-parameter tuning for different classification models, we see that SVM has the highest test accuracy of 80%.Hence, this is the best performing model and we will save this model."
      ]
    },
    {
      "cell_type": "markdown",
      "metadata": {
        "id": "AmUEWpnh7-Y2"
      },
      "source": [
        "# Performance Metrics"
      ]
    },
    {
      "cell_type": "markdown",
      "metadata": {
        "id": "yXRELXfiWtIh"
      },
      "source": [
        "**Performance Metrics of SVM Model**"
      ]
    },
    {
      "cell_type": "code",
      "metadata": {
        "colab": {
          "base_uri": "https://localhost:8080/"
        },
        "id": "uVkHkAXGWsUe",
        "outputId": "184cc464-c049-4ca8-a6a8-3c864dee7fda"
      },
      "source": [
        "''' Printing the confusion matrix '''\n",
        "\n",
        "print(confusion_matrix(y_test, y_pred))"
      ],
      "execution_count": null,
      "outputs": [
        {
          "output_type": "stream",
          "text": [
            "[[20  8]\n",
            " [ 4 29]]\n"
          ],
          "name": "stdout"
        }
      ]
    },
    {
      "cell_type": "code",
      "metadata": {
        "colab": {
          "base_uri": "https://localhost:8080/"
        },
        "id": "Fe6ntVCpXDj-",
        "outputId": "e09dff23-d066-4cc7-8474-c920bb80d90f"
      },
      "source": [
        "''' Printing the classification report of the Logistic Regression Model '''\n",
        "\n",
        "print(classification_report(y_test, y_pred))"
      ],
      "execution_count": null,
      "outputs": [
        {
          "output_type": "stream",
          "text": [
            "              precision    recall  f1-score   support\n",
            "\n",
            "         0.0       0.83      0.71      0.77        28\n",
            "         1.0       0.78      0.88      0.83        33\n",
            "\n",
            "    accuracy                           0.80        61\n",
            "   macro avg       0.81      0.80      0.80        61\n",
            "weighted avg       0.81      0.80      0.80        61\n",
            "\n"
          ],
          "name": "stdout"
        }
      ]
    },
    {
      "cell_type": "markdown",
      "metadata": {
        "id": "pLyFDARb8AvN"
      },
      "source": [
        "# Saving the model (either as pkl file or .h5 file)"
      ]
    },
    {
      "cell_type": "code",
      "metadata": {
        "id": "36_yI_ewRg6Z"
      },
      "source": [
        "Pkl_Filename = \"svmbestmodel.pkl\"  \n",
        "\n",
        "with open(Pkl_Filename, 'wb') as file:  \n",
        "    pickle.dump(svm_model, file)"
      ],
      "execution_count": null,
      "outputs": []
    },
    {
      "cell_type": "markdown",
      "metadata": {
        "id": "S5LzSf4Kye5Z"
      },
      "source": [
        "# Predicting the values"
      ]
    },
    {
      "cell_type": "code",
      "metadata": {
        "colab": {
          "base_uri": "https://localhost:8080/"
        },
        "id": "GSzHbvIhyieV",
        "outputId": "b14513f9-f56b-45df-be1f-9e161becad09"
      },
      "source": [
        "row = [57,1,0,143,1,3,1,1,3]\n",
        "\n",
        "X1 = scaler.fit_transform([row])\n",
        "\n",
        "pred = svm_model.predict(X1)\n",
        "round(pred[0], 2)\n",
        "\n",
        "if(pred[0]==1.0):\n",
        "  print(\"You have higher chance of getting heart attack\")\n",
        "else:\n",
        "  print(\"You have lower chance of getiing heart attack\")   "
      ],
      "execution_count": null,
      "outputs": [
        {
          "output_type": "stream",
          "text": [
            "You have higher chance of getting heart attack\n"
          ],
          "name": "stdout"
        }
      ]
    },
    {
      "cell_type": "code",
      "metadata": {
        "colab": {
          "base_uri": "https://localhost:8080/"
        },
        "id": "PqQaP0EMqbVf",
        "outputId": "1a762a47-98b2-46fc-d926-8cb3f9a63d63"
      },
      "source": [
        "pred"
      ],
      "execution_count": null,
      "outputs": [
        {
          "output_type": "execute_result",
          "data": {
            "text/plain": [
              "array([1.])"
            ]
          },
          "metadata": {
            "tags": []
          },
          "execution_count": 125
        }
      ]
    }
  ]
}